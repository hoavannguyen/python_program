{
 "cells": [
  {
   "cell_type": "markdown",
   "metadata": {},
   "source": [
    "# Bài thực hành 2\n",
    "## Môn học: Kỹ thuật lập trình Python\n",
    "* Họ tên sinh viên: Nguyễn Văn Hòa\n",
    "* Mã sinh viên: 193012244\n",
    "* Lớp, khóa: Toán ứng dụng K60"
   ]
  },
  {
   "cell_type": "markdown",
   "metadata": {},
   "source": [
    "### Bài 1\n",
    "* Viết chương trình tính số tiền thực của một tài khoản ngân hàng dựa trên nhật ký giao dịch được nhập vào từ giao diện điều khiển.\n",
    "* Định dạng nhật ký được hiển thị như sau:\n",
    "> D 100\n",
    ">\n",
    "> W 200\n",
    "\n",
    "    (D là tiền gửi, W là tiền rút ra).\n",
    "* Dữ liệu lịch sử giao dịch được người dùng nhập từ bàn phím.\n",
    "* Minh họa: Giả sử nhật kí giao dịch là\n",
    "> D 300\n",
    ">\n",
    "> D 300\n",
    ">\n",
    "> W 200\n",
    ">\n",
    "> D 100\n",
    "\n",
    "    Thì đầu ra sẽ là: 500\n"
   ]
  },
  {
   "cell_type": "code",
   "execution_count": 4,
   "metadata": {},
   "outputs": [
    {
     "name": "stdout",
     "output_type": "stream",
     "text": [
      "Chương trình tính số tiền thực tài khoản ngân hàng:\n",
      "(Nhập Enter sau khi hoàn thành nhật ký giao dịch)\n",
      "Nhập vào nhật ký giao dịch:d 300\n",
      "Nhập vào nhật ký giao dịch:d 300\n",
      "Nhập vào nhật ký giao dịch:w 200\n",
      "Nhập vào nhật ký giao dịch:d 100\n",
      "Nhập vào nhật ký giao dịch:\n",
      "[300.0, 300.0, -200.0, 100.0]\n",
      "Số tiền thực: 500.0\n"
     ]
    }
   ],
   "source": [
    "print(\"Chương trình tính số tiền thực tài khoản ngân hàng:\\n(Nhập Enter sau khi hoàn thành nhật ký giao dịch)\")\n",
    "total=[]\n",
    "while True:\n",
    "    x= input('Nhập vào nhật ký giao dịch:').upper()\n",
    "    if x==\"\":\n",
    "        break\n",
    "    x=x.split()\n",
    "    if x[0]==\"D\":\n",
    "        total.append(float(x[1]))\n",
    "    elif x[0]==\"W\":\n",
    "        total.append(-float(x[1]))\n",
    "print(\"Số tiền thực:\",sum(total))"
   ]
  },
  {
   "cell_type": "markdown",
   "metadata": {},
   "source": [
    "### Bài 2\n",
    "Một website yêu cầu người dùng nhập tên người dùng và mật khẩu để đăng ký. Viết chương trình để kiểm tra tính hợp lệ của mật khẩu mà người dùng nhập vào.\n",
    "\n",
    "Các tiêu chí kiểm tra mật khẩu bao gồm:\n",
    "* Ít nhất 1 chữ cái nằm trong [a-z]\n",
    "* Ít nhất 1 số nằm trong [0-9]\n",
    "* Ít nhất 1 kí tự nằm trong [A-Z]\n",
    "* Ít nhất 1 ký tự nằm trong [$ # @]\n",
    "* Độ dài mật khẩu tối thiểu: 6\n",
    "* Độ dài mật khẩu tối đa: 12\n",
    "\n",
    "Mật khẩu được người dùng nhập vào từ bàn phím."
   ]
  },
  {
   "cell_type": "code",
   "execution_count": 6,
   "metadata": {},
   "outputs": [
    {
     "name": "stdout",
     "output_type": "stream",
     "text": [
      "Nhập tên người dùng: vanhoa\n",
      "Nhập mật khẩu:Vanhoa12#\n",
      "Mật khẩu hợp lệ\n"
     ]
    }
   ],
   "source": [
    "user=input(\"Nhập tên người dùng: \")\n",
    "pas=input(\"Nhập mật khẩu:\")\n",
    "dk1=dk2=dk3=dk4=0\n",
    "for i in pas:\n",
    "    if i.isalpha() and i.islower():\n",
    "        dk1+=1\n",
    "    elif i.isdigit():\n",
    "        dk2+=1\n",
    "    elif i.isalpha() and i.isupper():\n",
    "        dk3+=1\n",
    "    elif i in [\"$\",\"#\",\"@\"]:\n",
    "        dk4+=1\n",
    "if dk1==0:\n",
    "    print(\"Ít nhất 1 chữ cái nằm trong [a-z]\")\n",
    "elif dk2==0:\n",
    "    print(\"Ít nhất 1 số nằm trong [0-9]\")\n",
    "elif dk3 == 0:\n",
    "    print(\"Ít nhất 1 kí tự nằm trong [A-Z]\")\n",
    "elif dk4==0:\n",
    "    print(\"Ít nhất 1 ký tự nằm trong [$ # @]\")\n",
    "elif len(pas)>12 or len(pas)<6:\n",
    "    print(\"Độ dài mật khẩu không hợp lệ\")\n",
    "else:\n",
    "    print(\"Mật khẩu hợp lệ\")"
   ]
  },
  {
   "cell_type": "markdown",
   "metadata": {},
   "source": [
    "### Bài 3\n",
    "Một Robot di chuyển ngẫu nhiên trong mặt phẳng bắt đầu từ điểm đầu tiên (0,0). Mỗi bước đi, Robot có thể di chuyển theo hướng UP, DOWN, LEFT và RIGHT một khoảng có độ dài một đơn vị. Chẳng hạn, di chuyển của robot được đánh hiển thị như sau:\n",
    "\n",
    "> UP 5\n",
    ">\n",
    "> DOWN 3\n",
    ">\n",
    "> LEFT 3\n",
    ">\n",
    "> RIGHT 3\n",
    "\n",
    "Các con số sau phía sau hướng di chuyển chính là số bước đi. Hãy viết chương trình để tính toán khoảng cách từ vị trí hiện tại đến vị trí đầu tiên, sau khi robot đã di chuyển một quãng đường.\n",
    "\n",
    "*Minh họa*: Nếu dữ liệu di chuyển của robot là như trên thì kết quả tính sẽ bằng 2.\n"
   ]
  },
  {
   "cell_type": "code",
   "execution_count": 21,
   "metadata": {},
   "outputs": [
    {
     "name": "stdout",
     "output_type": "stream",
     "text": [
      "Các bước di chuyển:\n",
      "DOWN \t 4\n",
      "UP \t 6\n",
      "RIGHT \t 8\n",
      "LEFT \t 7\n",
      "LEFT \t 4\n",
      "UP \t 2\n",
      "RIGHT \t 3\n",
      "UP \t 5\n",
      "LEFT \t 7\n",
      "Vị trí hiện tại: [4, -2]\n",
      "Khoảng cách từ [4, -2] hiện tại đến vị trí đầu tiên [0,0]: 4.47213595499958\n"
     ]
    }
   ],
   "source": [
    "from math import sqrt\n",
    "from random import randint\n",
    "location=[0,0]\n",
    "choose=[\"UP\",\"DOWN\",\"LEFT\",\"RIGHT\"]\n",
    "n=1\n",
    "print(\"Các bước di chuyển:\")\n",
    "while n<10:\n",
    "    x=[choose[randint(0,3)],randint(1,10)]\n",
    "    if x[0]==\"UP\":\n",
    "        location[0]+=step\n",
    "    elif x[0]==\"DOWN\":\n",
    "        location[0]-=step\n",
    "    elif x[0]==\"LEFT\":\n",
    "        location[1]-=step\n",
    "    elif x[0]==\"RIGHT\":\n",
    "        location[1]+=step\n",
    "    print(x[0],\"\\t\",x[1])\n",
    "    n+=1\n",
    "print(\"Vị trí hiện tại:\",location)\n",
    "print(f\"Khoảng cách từ {location} hiện tại đến vị trí đầu tiên [0,0]:\",sqrt(location[0]**2+location[1]**2))"
   ]
  },
  {
   "cell_type": "markdown",
   "metadata": {},
   "source": [
    "### Bài 4\n",
    "Viết chương trình tính chu vi của một đa giác. Bắt đầu bằng cách đọc tọa độ $x$ và $y$ cho điểm đầu tiên trên chu vi của đa giác từ người dùng. Sau đó, tiếp tục đọc các cặp giá trị cho đến khi người dùng nhập một dòng trống cho tọa độ $x$. Mỗi khi đọc một tọa độ bổ sung, ta phải tính khoảng cách đến điểm trước đó và thêm nó vào chu vi. Khi một dòng trống được nhập cho tọa độ $x$, chương trình sẽ thêm khoảng cách từ điểm cuối cùng trở lại điểm đầu tiên vào chu vi. Sau đó, chu vi sẽ được hiển thị. Giá trị đầu vào và đầu ra của mẫu được hiển thị bên dưới. Các giá trị đầu vào do người dùng nhập được in đậm.\n",
    "> Enter the first x-coordinate: **0**\n",
    ">\n",
    "> Enter the first y-coordinate: **0**\n",
    ">\n",
    "> Enter the next x-coordinate (blank to quit): **1**\n",
    ">\n",
    "> Enter the next y-coordinate: **0**\n",
    ">\n",
    "> Enter the next x-coordinate (blank to quit): **0**\n",
    ">\n",
    "> Enter the next y-coordinate: **1**\n",
    ">\n",
    "> Enter the next x-coordinate (blank to quit):\n",
    ">\n",
    "> The perimeter of that polygon is 3.414213562373095"
   ]
  },
  {
   "cell_type": "code",
   "execution_count": 13,
   "metadata": {},
   "outputs": [
    {
     "name": "stdout",
     "output_type": "stream",
     "text": [
      "Enter the first x-coordinate:0\n",
      "Enter the first y-coordinate:0\n",
      "Enter the next x-coordinate (blank to quit):1\n",
      "Enter the next y-coordinate:0\n",
      "Enter the next x-coordinate (blank to quit):0\n",
      "Enter the next y-coordinate:1\n",
      "Enter the next x-coordinate (blank to quit):\n",
      "The perimeter of that polygon is 3.414213562373095\n"
     ]
    }
   ],
   "source": [
    "from math import sqrt\n",
    "coordinates=[]\n",
    "f1x = float(input(\"Enter the first x-coordinate:\"))\n",
    "f1y = float(input(\"Enter the first y-coordinate:\"))\n",
    "coordinates.append([f1x,f1y])\n",
    "distances=[]\n",
    "while True:\n",
    "    x=input(\"Enter the next x-coordinate (blank to quit):\")\n",
    "    if x==\"\":\n",
    "        break\n",
    "    y=float(input(\"Enter the next y-coordinate:\"))\n",
    "    coordinates.append([float(x),y])\n",
    "    distance = sqrt((coordinates[-1][0]-coordinates[-2][0])**2+(coordinates[-1][1]-coordinates[-2][1])**2)\n",
    "    distances.append(distance)\n",
    "last_distance = sqrt((coordinates[-1][0]-coordinates[0][0])**2+(coordinates[-1][1]-coordinates[0][1])**2)\n",
    "distances.append(last_distance)\n",
    "print(f\"The perimeter of that polygon is {sum(distances)}\")"
   ]
  },
  {
   "cell_type": "markdown",
   "metadata": {},
   "source": [
    "### Bài 5\n",
    "Một sở thú xác định giá vé vào cửa dựa trên độ tuổi của khách. Khách từ 2 tuổi trở xuống được vào cửa miễn phí. Trẻ em từ 3 đến 12 tuổi có giá 14,00 *usd*. Người cao tuổi từ 65 tuổi trở lên có giá 18,00 *usd*. Vé vào cửa cho tất cả các khách khác là 23,00 *usd*. \n",
    "\n",
    "Tạo một chương trình:\n",
    "* Bắt đầu bằng cách đọc độ tuổi của tất cả khách trong một nhóm từ người dùng, với một độ tuổi được nhập trên mỗi dòng. Người dùng sẽ nhập một dòng trống để cho biết rằng không còn khách trong nhóm. \n",
    "* Sau đó, chương trình của bạn sẽ hiển thị chi phí vào cửa cho nhóm với một thông báo thích hợp. Chi phí phải được hiển thị bằng cách sử dụng hai chữ số thập phân."
   ]
  },
  {
   "cell_type": "code",
   "execution_count": null,
   "metadata": {},
   "outputs": [],
   "source": []
  }
 ],
 "metadata": {
  "kernelspec": {
   "display_name": "Python 3",
   "language": "python",
   "name": "python3"
  },
  "language_info": {
   "codemirror_mode": {
    "name": "ipython",
    "version": 3
   },
   "file_extension": ".py",
   "mimetype": "text/x-python",
   "name": "python",
   "nbconvert_exporter": "python",
   "pygments_lexer": "ipython3",
   "version": "3.8.8"
  }
 },
 "nbformat": 4,
 "nbformat_minor": 4
}
