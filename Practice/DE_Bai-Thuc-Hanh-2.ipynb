{
 "cells": [
  {
   "cell_type": "markdown",
   "metadata": {},
   "source": [
    "# Bài TH-2-1: Tính nhẩm\n",
    "Bạn hãy viết một chương trình cho người dùng tính nhẩm 4 phép tính theo yêu cầu dưới đây, sau khi người dùng nhập câu trả lời thì thông báo kết quả và cuối cùng đưa ra số câu họ đúng và số điểm mà họ đạt được.\n",
    "<blockquote><b>Yêu cầu về nội dung câu hỏi:</b><br>\n",
    "<ul>\n",
    "    <li> Câu 1: tính nhẩm tổng hai số ngẫu nhiên nằm trong khoảng từ 1 đến 10.</li>\n",
    "    <li> Câu 2: tính nhẩm tích hai số ngẫu nhiên nằm trong khoảng từ 1 đến 10.</li>\n",
    "    <li> Câu 3: tính nhẩm tổng hai số ngẫu nhiên nằm trong khoảng từ 11 đến 99.</li>\n",
    "    <li> Câu 4: tính nhẩm tích hai số ngẫu nhiên nằm trong khoảng từ 11 đến 30.</li>\n",
    "</ul></blockquote>"
   ]
  },
  {
   "cell_type": "code",
   "execution_count": 7,
   "metadata": {},
   "outputs": [
    {
     "name": "stdout",
     "output_type": "stream",
     "text": [
      "Chương trình tính nhẩm:\n",
      "Câu 1: Tính tổng 7+1 =8\n",
      "True\n",
      "Câu 2: Tính tích 7*8 =56\n",
      "True\n",
      "Câu 3: Tính tổng 70+57 =127\n",
      "True\n",
      "Câu 4: Tính tích 19*29 = 551\n",
      "True\n"
     ]
    }
   ],
   "source": [
    "from random import randint\n",
    "print(\"Chương trình tính nhẩm:\")\n",
    "a=randint(1,10)\n",
    "b=randint(1,10)\n",
    "c=int(input(f\"Câu 1: Tính tổng {a}+{b} =\"))\n",
    "print(c==a+b)\n",
    "a=randint(1,10)\n",
    "b=randint(1,10)\n",
    "c=int(input(f\"Câu 2: Tính tích {a}*{b} =\"))\n",
    "print(c==a*b)\n",
    "a=randint(11,99)\n",
    "b=randint(11,99)\n",
    "c=int(input(f\"Câu 3: Tính tổng {a}+{b} =\"))\n",
    "print(c==a+b)\n",
    "a=randint(11,30)\n",
    "b=randint(11,30)\n",
    "c=int(input(f\"Câu 4: Tính tích {a}*{b} = \"))\n",
    "print(c==a*b)"
   ]
  },
  {
   "cell_type": "markdown",
   "metadata": {},
   "source": [
    "# Bài TH-2-2: 'Văn mẫu'\n",
    "Bạn hãy viết một chương trình để nhập vào:\n",
    "<blockquote><ul>\n",
    "    <li> Họ tên đầy đủ của bạn (Ví dụ: Nguyễn Thị P)</li>\n",
    "    <li> Giới tính của bạn (Ví dụ: Nữ)</li>\n",
    "    <li> Ngày tháng năm sinh (Ví dụ: 16-07-1996)</li>\n",
    "    <li> Một phép tính nào đó (Ví dụ: $3^2+4^2$ - không đưa đáp án)</li>\n",
    "</ul></blockquote>\n",
    "Sau đó, đưa ra một đoạn thông tin như sau:\n",
    "<blockquote><ul>\n",
    "    THÔNG TIN CÁ NHÂN\n",
    "    <li> Họ và tên: Nguyễn Thị P</li>\n",
    "    <li> Giới tính: Nữ</li>\n",
    "    <li> Ngày sinh: 16-07-1996</li>\n",
    "    <li> Có thể thực hiện được phép tính: $3^2+4^2=25$</li>\n",
    "</ul></blockquote>"
   ]
  },
  {
   "cell_type": "code",
   "execution_count": 6,
   "metadata": {},
   "outputs": [
    {
     "name": "stdout",
     "output_type": "stream",
     "text": [
      "Họ tên đầy đủ của bạn:Nguyễn Văn Hòa\n",
      "Giới tính của bạn: Nam\n",
      "Ngày tháng năm sinh:26/10/2001\n",
      " 4^2 + 1^2 =? :17\n",
      "==============================\n",
      "Họ và tên: Nguyễn Văn Hòa \n",
      "Giới tính: Nam \n",
      "Ngày sinh: 26/10/2001\n",
      "Có thể thực hiện được phép tính 4^2+1^2 =17\n"
     ]
    }
   ],
   "source": [
    "from random import randint\n",
    "a=input(\"Họ tên đầy đủ của bạn:\")\n",
    "b=input(\"Giới tính của bạn: \")\n",
    "c=input(\"Ngày tháng năm sinh:\")\n",
    "x1=randint(1,10)\n",
    "x2=randint(1,10)\n",
    "d=int(input(\" {}^2 + {}^2 =? :\".format(x1,x2)))\n",
    "ans=x1**2+x2**2\n",
    "print(\"=\"*30)\n",
    "print(\"Họ và tên:\",a,\"\\nGiới tính:\",b,\"\\nNgày sinh:\",c)\n",
    "print(\"Có\" if ans==d else \"Không\",f\"thể thực hiện được phép tính {x1}^2+{x2}^2 ={ans}\" )"
   ]
  },
  {
   "cell_type": "markdown",
   "metadata": {},
   "source": [
    "# Bài TH-2-3: 'Tích cực'\n",
    "Bạn hãy viết một chương trình cho người dùng nhập vào một câu; sau đó tìm lần xuất hiện đầu tiên của từ \"buồn\" và từ \"lắm\", nếu từ \"lắm\" ở sau từ \"buồn\" thì thay thế cụm từ \"buồn ... lắm\" bằng chuỗi ba dấu (\\*), nếu sau \"buồn\" không có \"lắm\" thì thay \"buồn\" bằng chuỗi bốn dấu (\\*), nếu không thì trả về chuỗi ban đầu."
   ]
  },
  {
   "cell_type": "code",
   "execution_count": 11,
   "metadata": {},
   "outputs": [
    {
     "name": "stdout",
     "output_type": "stream",
     "text": [
      "Nhập vào một câu:tôi buồn vcl lắm mng ơi\n",
      "tôi *** mng ơi\n"
     ]
    }
   ],
   "source": [
    "b3= input(\"Nhập vào một câu:\")\n",
    "id1=b3.lower().find(\"buồn\")\n",
    "id2=b3.lower().find(\"lắm\")\n",
    "if id1 < id2 and id1 != -1:\n",
    "    b3=b3.replace(b3[id1:id2+3],\"***\")\n",
    "elif id1 > id2 and id1 != -1:\n",
    "    b3=b3.replace(b3[id1:id1+4],\"****\")\n",
    "print(b3)"
   ]
  },
  {
   "cell_type": "markdown",
   "metadata": {},
   "source": [
    "# Bài TH-2-4: Đoán số\n",
    "Bạn hãy viết một chương trình cho người dùng đoán một con số nằm trong khoảng từ 1 đến 50. Người dùng sẽ đoán bằng cách nhập liên tục con số dự đoán của mình từ bàn phím, trò chơi sẽ kết thúc khi người dùng nhập đúng con số đã được máy tính chọn ngẫu nhiên trong khoảng quy định.\n",
    "<blockquote><b>Yêu cầu:</b><br>\n",
    "<ol>\n",
    "    <li> Nếu người dùng nhập con số cao hơn hoặc thấp hơn con số chính xác thì thông báo cho họ biết.</li>\n",
    "    <li> Nếu người dùng nhập vào một chuỗi không phải số thì thông báo cho họ và yêu cầu nhập lại.</li>\n",
    "    <li> Nếu người dùng đã đoán quá 6 lần không chính xác thì hỏi họ có tiếp tục chơi nữa hay không.</li>\n",
    "</ol></blockquote>"
   ]
  },
  {
   "cell_type": "code",
   "execution_count": 7,
   "metadata": {},
   "outputs": [
    {
     "name": "stdout",
     "output_type": "stream",
     "text": [
      "Lần đoán thứ  1 :\n",
      "Nhập 1 số x trong [1,50]:34\n",
      "----> Số bạn đoán lớn hơn số random.\n",
      "Lần đoán thứ  2 :\n",
      "Nhập 1 số x trong [1,50]:adsa\n",
      "Nhập sai rồi. Nhập lại.\n",
      "----> Số bạn đoán lớn hơn số random.\n",
      "Lần đoán thứ  3 :\n",
      "Nhập 1 số x trong [1,50]:aca\n",
      "Nhập sai rồi. Nhập lại.\n",
      "----> Số bạn đoán lớn hơn số random.\n",
      "Lần đoán thứ  4 :\n",
      "Nhập 1 số x trong [1,50]:bg\n",
      "Nhập sai rồi. Nhập lại.\n",
      "----> Số bạn đoán lớn hơn số random.\n",
      "Lần đoán thứ  5 :\n",
      "Nhập 1 số x trong [1,50]:e\n",
      "Nhập sai rồi. Nhập lại.\n",
      "----> Số bạn đoán lớn hơn số random.\n",
      "Lần đoán thứ  6 :\n",
      "Nhập 1 số x trong [1,50]:e\n",
      "Nhập sai rồi. Nhập lại.\n",
      "----> Số bạn đoán lớn hơn số random.\n",
      "Lần đoán thứ  7 :\n",
      "Nhập 1 số x trong [1,50]:e\n",
      "Nhập sai rồi. Nhập lại.\n",
      "----> Số bạn đoán lớn hơn số random.\n",
      "Bạn đã đoán sai nhiều lần. Có muốn chơi tiếp nữa không? (c/k):k\n",
      "Đáp án: 10\n"
     ]
    }
   ],
   "source": [
    "from random import randint\n",
    "count=0\n",
    "a = randint(1,50)\n",
    "while True:\n",
    "    count += 1\n",
    "    print(\"Lần đoán thứ \", count, \":\")\n",
    "    try:\n",
    "        x=int(input(\"Nhập 1 số x trong [1,50]:\"))\n",
    "    except:\n",
    "        print(\"Nhập sai rồi. Nhập lại.\")\n",
    "    if x>a:\n",
    "        print(\"----> Số bạn đoán lớn hơn số random.\")\n",
    "    elif x<a:\n",
    "        print(\"----> Số bạn đoán nhỏ hơn số random.\")\n",
    "    else:\n",
    "        print(\" Bạn đã đoán đúng rồi!!\")\n",
    "        break\n",
    "    if count==7 or count ==10:\n",
    "        b= input(\"Bạn đã đoán sai nhiều lần. Có muốn chơi tiếp nữa không? (c/k):\")\n",
    "        if b==\"k\":\n",
    "            print(\"Đáp án:\",a)\n",
    "            break"
   ]
  },
  {
   "cell_type": "markdown",
   "metadata": {},
   "source": [
    "# Bài TH-2-5: Đa thức\n",
    "Bạn hãy viết một chương trình cho người dùng nhập vào lần lượt $(n+1)$ số $a_n, a_{n-1},... ,a_1,a_0$ (kết thúc khi người dùng nhập: \"Hoàn thành\") và sau đó đưa ra chuỗi là đa thức:\n",
    "$$a_n x_n +a_{n-1}x_{n-1} +...+a_1x+a_0.$$"
   ]
  },
  {
   "cell_type": "code",
   "execution_count": 8,
   "metadata": {},
   "outputs": [
    {
     "name": "stdout",
     "output_type": "stream",
     "text": [
      "Nhập a_i:6\n",
      "Nhập a_i:5\n",
      "Nhập a_i:4\n",
      "Nhập a_i:3\n",
      "Nhập a_i:2\n",
      "Nhập a_i:Hoàn thành\n",
      "6.0x^4 + 5.0x^3 + 4.0x^2 + 3.0x^1 + 2.0\n"
     ]
    }
   ],
   "source": [
    "lst=[]\n",
    "while True:\n",
    "    a= input(\"Nhập a_i:\")\n",
    "    if a==\"Hoàn thành\":\n",
    "        break\n",
    "    lst.append(float(a))\n",
    "n=len(lst)\n",
    "dathuc=\"\"\n",
    "for i in range(len(lst),1,-1):\n",
    "    dathuc += str(lst[-i])+\"x^\"+str(i-1) + \" + \"\n",
    "dathuc += str(lst[-1])\n",
    "print(dathuc)"
   ]
  }
 ],
 "metadata": {
  "kernelspec": {
   "display_name": "Python 3",
   "language": "python",
   "name": "python3"
  },
  "language_info": {
   "codemirror_mode": {
    "name": "ipython",
    "version": 3
   },
   "file_extension": ".py",
   "mimetype": "text/x-python",
   "name": "python",
   "nbconvert_exporter": "python",
   "pygments_lexer": "ipython3",
   "version": "3.8.8"
  }
 },
 "nbformat": 4,
 "nbformat_minor": 4
}
