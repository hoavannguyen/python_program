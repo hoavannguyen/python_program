{
 "cells": [
  {
   "cell_type": "markdown",
   "metadata": {},
   "source": [
    "# Bài TH-1-1: Lời chào\n",
    "Bạn hãy viết một chương trình cho người dùng nhập vào tên của họ và đưa ra màn hình lời chào cùng tên của người đó.<br>\n",
    "<blockquote><b>Yêu cầu:</b> Nếu người dùng để trống tên thì yêu cầu họ phải nhập lại.</blockquote>"
   ]
  },
  {
   "cell_type": "code",
   "execution_count": 1,
   "metadata": {},
   "outputs": [
    {
     "name": "stdout",
     "output_type": "stream",
     "text": [
      "Nhập tên:a\n",
      "Chào mừng a\n"
     ]
    }
   ],
   "source": [
    "#Bài TH1\n",
    "while True:\n",
    "    a=input(\"Nhập tên:\")\n",
    "    if a != \"\":\n",
    "        break\n",
    "print(\"Chào mừng\",a)"
   ]
  },
  {
   "cell_type": "markdown",
   "metadata": {},
   "source": [
    "# Bài TH-1-2: Năm nhuận\n",
    "Bạn hãy viết một chương trình cho người dùng nhập vào một năm nào đó (lớn hơn 1799) rồi đưa ra kết quả năm đó có phải là năm nhuận hay không.<br>\n",
    "<blockquote><b>Biết rằng:</b> Năm nhuận là năm chia hết cho 4 và không chia hết cho 100. Ví dụ: Năm 2104 là năm nhuận nhưng năm 2100 thì không.<br>\n",
    "<b>Yêu cầu thêm:</b> Đưa ra số năm nhuận tính từ năm 1799 đến năm đã được nhập.</blockquote>"
   ]
  },
  {
   "cell_type": "code",
   "execution_count": 2,
   "metadata": {},
   "outputs": [
    {
     "name": "stdout",
     "output_type": "stream",
     "text": [
      "Nhập năm:1597\n",
      "Nhập năm:1994\n",
      "1994 không là năm nhuận\n"
     ]
    }
   ],
   "source": [
    "#Bài TH2\n",
    "while True:\n",
    "    year=int(input(\"Nhập năm:\"))\n",
    "    if year > 1799:\n",
    "        break\n",
    "if year%4==0 and year %100 != 0:\n",
    "    print(year,\"là năm nhuận\")\n",
    "else:\n",
    "    print(year,\"không là năm nhuận\")"
   ]
  },
  {
   "cell_type": "markdown",
   "metadata": {},
   "source": [
    "# Bài TH-1-3: Oẳn tù tì\n",
    "Bạn hãy viết một chương trình để người dùng có thể chơi trò <b>Oẳn tù tì</b> với máy tính.<br>\n",
    "<blockquote><b>Yêu cầu:</b><br>\n",
    "<ol>\n",
    "    <li> Người chơi tự nhập một trong ba lựa chọn: <b>Búa</b>, <b>Kéo</b> hoặc <b>Giấy</b>.</li>\n",
    "    <li> Máy tính chọn ngẫu nhiên một trong ba lựa chọn trên.</li>\n",
    "    <li> In ra lựa chọn của người chơi và máy tính, sau đó thông báo kết quả thắng thua.</li>\n",
    "</ol></blockquote>"
   ]
  },
  {
   "cell_type": "code",
   "execution_count": 3,
   "metadata": {},
   "outputs": [
    {
     "name": "stdout",
     "output_type": "stream",
     "text": [
      "Nhập lựa chọn:Kéo\n",
      "Máy chọn: Kéo\n",
      "Hòa rồi\n",
      "******************************\n",
      "Chơi tiếp k? (c/k):k\n"
     ]
    }
   ],
   "source": [
    "#Bài TH3\n",
    "from random import randint\n",
    "list=[\"Búa\",\"Kéo\",\"Giấy\"]\n",
    "while True:\n",
    "    a=input(\"Nhập lựa chọn:\")\n",
    "    b=list[randint(0,2)]\n",
    "    print(\"Máy chọn:\",b)\n",
    "    if a==b:\n",
    "        print(\"Hòa rồi\")\n",
    "    else:\n",
    "        if a == \"Giấy\":\n",
    "            if b == \"Búa\":\n",
    "                print(\"Thắng rồi!\")\n",
    "            else:\n",
    "                print(\"Thua\")\n",
    "        elif a == \"Búa\":\n",
    "            if b == \"Kéo\":\n",
    "                print(\"Thắng rồi!\")\n",
    "            else:\n",
    "                print(\"Thua\")\n",
    "        elif a == \"Kéo\":\n",
    "            if b == \"Giấy\":\n",
    "                print(\"Thắng rồi!\")\n",
    "            else:\n",
    "                print(\"Thua\")\n",
    "        else:\n",
    "            print(\"Nhập sai!\")\n",
    "    print(\"*\"*30)\n",
    "    c=input(\"Chơi tiếp k? (c/k):\")\n",
    "    if c==\"k\":\n",
    "        break"
   ]
  },
  {
   "cell_type": "markdown",
   "metadata": {},
   "source": [
    "# Bài TH-1-4: Giờ - Phút - Giây\n",
    "Có một công việc bắt đầu từ <b>0h00</b> trong một ngày nào đó.<br>\n",
    "Bạn hãy viết một chương trình nhập vào số giây hoàn thành công việc trên và đưa ra thời điểm hoàn thành công việc đó.\n",
    "<blockquote><b>Ví dụ:</b><br>\n",
    "Nhập vào <b>7470</b> thì xuất ra <b>2:04:30 AM</b>.<br>\n",
    "Nhập vào <b>81990</b> thì xuất ra <b>10:45:00 PM</b>.</blockquote>"
   ]
  },
  {
   "cell_type": "code",
   "execution_count": 8,
   "metadata": {},
   "outputs": [
    {
     "name": "stdout",
     "output_type": "stream",
     "text": [
      "Nhập số giây hoàn thành công việc (s):900000\n",
      "Thời điểm hoàn thành công việc 22:00:00 PM\n"
     ]
    }
   ],
   "source": [
    "#Bài TH4\n",
    "seconds=int(input(\"Nhập số giây hoàn thành công việc (s):\"))\n",
    "a=\"AM\" if seconds<43200 else \"PM\"\n",
    "\n",
    "hours= seconds//3600%24 if seconds<43200 else (seconds-43200)//3600%24\n",
    "\n",
    "minutes=(seconds%3600)//60\n",
    "seconds=seconds%60\n",
    "minutes= \"0\"+str(minutes) if minutes<10 else minutes\n",
    "seconds=\"0\"+str(seconds) if seconds<10 else seconds\n",
    "print(f\"Thời điểm hoàn thành công việc {hours}:{minutes}:{seconds} {a}\")"
   ]
  },
  {
   "cell_type": "markdown",
   "metadata": {},
   "source": [
    "# Bài TH-1-5: Tam giác vuông\n",
    "Bạn hãy viết một chương trình tìm tất cả các tam giác vuông có ba cạnh là những số nguyên và độ dài các cạnh góc vuông không vượt quá 30.<br>\n",
    "<blockquote><b>Yêu cầu:</b> Đưa ra tổng số tam giác vuông thỏa mãn và chỉ rõ độ dài ba cạnh của các tam giác vuông đó.</blockquote>"
   ]
  },
  {
   "cell_type": "code",
   "execution_count": 11,
   "metadata": {},
   "outputs": [
    {
     "name": "stdout",
     "output_type": "stream",
     "text": [
      "Tam giác thứ 1 có 2 cạnh góc vuông và cạnh huyền lần lượt là:\t3\t4\t5\n",
      "Tam giác thứ 2 có 2 cạnh góc vuông và cạnh huyền lần lượt là:\t5\t12\t13\n",
      "Tam giác thứ 3 có 2 cạnh góc vuông và cạnh huyền lần lượt là:\t6\t8\t10\n",
      "Tam giác thứ 4 có 2 cạnh góc vuông và cạnh huyền lần lượt là:\t7\t24\t25\n",
      "Tam giác thứ 5 có 2 cạnh góc vuông và cạnh huyền lần lượt là:\t8\t15\t17\n",
      "Tam giác thứ 6 có 2 cạnh góc vuông và cạnh huyền lần lượt là:\t9\t12\t15\n",
      "Tam giác thứ 7 có 2 cạnh góc vuông và cạnh huyền lần lượt là:\t10\t24\t26\n",
      "Tam giác thứ 8 có 2 cạnh góc vuông và cạnh huyền lần lượt là:\t12\t16\t20\n",
      "Tam giác thứ 9 có 2 cạnh góc vuông và cạnh huyền lần lượt là:\t15\t20\t25\n",
      "Tam giác thứ 10 có 2 cạnh góc vuông và cạnh huyền lần lượt là:\t16\t30\t34\n",
      "Tam giác thứ 11 có 2 cạnh góc vuông và cạnh huyền lần lượt là:\t18\t24\t30\n",
      "Tam giác thứ 12 có 2 cạnh góc vuông và cạnh huyền lần lượt là:\t20\t21\t29\n",
      "Tam giác thứ 13 có 2 cạnh góc vuông và cạnh huyền lần lượt là:\t21\t28\t35\n",
      "Tổng số tam giác thỏa mãn: 13\n"
     ]
    }
   ],
   "source": [
    "#Bài TH5 \n",
    "from math import sqrt\n",
    "count=0\n",
    "for i in range(1,31):\n",
    "    for j in range(i,31):\n",
    "        s=sqrt(i**2+j**2)\n",
    "        if s%1==0 :\n",
    "            count+=1\n",
    "            print(f\"Tam giác thứ {count} có 2 cạnh góc vuông và cạnh huyền lần lượt là:\",i,j,int(s),sep=\"\\t\")\n",
    "print(\"Tổng số tam giác thỏa mãn:\",count)"
   ]
  }
 ],
 "metadata": {
  "kernelspec": {
   "display_name": "Python 3",
   "language": "python",
   "name": "python3"
  },
  "language_info": {
   "codemirror_mode": {
    "name": "ipython",
    "version": 3
   },
   "file_extension": ".py",
   "mimetype": "text/x-python",
   "name": "python",
   "nbconvert_exporter": "python",
   "pygments_lexer": "ipython3",
   "version": "3.8.8"
  }
 },
 "nbformat": 4,
 "nbformat_minor": 4
}
