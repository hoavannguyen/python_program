{
 "cells": [
  {
   "cell_type": "code",
   "execution_count": 1,
   "id": "5f96c6e9",
   "metadata": {},
   "outputs": [
    {
     "name": "stdout",
     "output_type": "stream",
     "text": [
      "Dãy số: [8, 9, -2, 9, 4, -10, -8, 0, 3, 2, -1, -5, -3, 8, 10, -5, -8, 2, -7, -9]\n",
      "Tổng: -3 \n",
      "Tích:  0\n",
      "3 số có giá trị tuyệt đối lớn nhất:[-9, 10, -10]\n",
      "Dãy con tăng liên tiếp dài nhất: [8, 9]\n"
     ]
    }
   ],
   "source": [
    "#Bài 1\n",
    "#Phần a\n",
    "from random import randint\n",
    "dayso = [randint(-10,10) for i in range(20)]\n",
    "print(\"Dãy số:\",dayso)\n",
    "#Phần b\n",
    "tong = 0\n",
    "tich = 1\n",
    "for i in dayso:\n",
    "    tong+=i\n",
    "    tich*=i\n",
    "print(\"Tổng:\",tong,\"\\nTích: \",tich)\n",
    "#Phần c\n",
    "sort_ds= [i for i in dayso]\n",
    "for i in range(len(sort_ds)):\n",
    "    for j in range(i,len(sort_ds)):\n",
    "        if abs(sort_ds[i])>abs(sort_ds[j]):\n",
    "            temp= sort_ds[i]\n",
    "            sort_ds[i]=sort_ds[j]\n",
    "            sort_ds[j]= temp     \n",
    "print(f\"3 số có giá trị tuyệt đối lớn nhất:{sort_ds[-3:]}\")\n",
    "# Phần d\n",
    "count = 1\n",
    "ls_count=[]\n",
    "for i in range(len(dayso)-1):\n",
    "    if dayso[i+1]==dayso[i]+1:\n",
    "        count+=1\n",
    "        if i==len(dayso)-2:\n",
    "            ls_count.append(count)\n",
    "    else:\n",
    "        ls_count.append(count)\n",
    "        count=1\n",
    "a = max(ls_count)\n",
    "index_a = ls_count.index(a)\n",
    "index_straight = sum(ls_count[:index_a])\n",
    "max_straight= dayso[index_straight:index_straight+a]\n",
    "if a==1:\n",
    "    print(\"Không có dãy con tăng liên tiếp.\")\n",
    "else: \n",
    "    print(\"Dãy con tăng liên tiếp dài nhất:\",max_straight)"
   ]
  },
  {
   "cell_type": "code",
   "execution_count": 6,
   "id": "d5372153",
   "metadata": {},
   "outputs": [
    {
     "data": {
      "text/plain": [
       "[0, -1, -2, 2, 2, 3, -3, 4, -5, -5, -7, 8, -8, 8, -8, 9, 9, -9, -10, 10]"
      ]
     },
     "execution_count": 6,
     "metadata": {},
     "output_type": "execute_result"
    }
   ],
   "source": [
    "list_sapxep = sorted(dayso, key = lambda x:abs(x))\n",
    "list_sapxep"
   ]
  },
  {
   "cell_type": "code",
   "execution_count": 360,
   "id": "fc053a7f",
   "metadata": {},
   "outputs": [
    {
     "name": "stdout",
     "output_type": "stream",
     "text": [
      "Nhập Tên,Điểm :Hòa,10\n",
      "Nhập Tên,Điểm :Dũng,3.14\n",
      "Nhập Tên,Điểm :Huy Lê, 7.3\n",
      "Nhập Tên,Điểm :Mười, 1\n",
      "Nhập Tên,Điểm :Tuấn,6\n",
      "Nhập Tên,Điểm :Vân Anh,8.5\n",
      "Nhập Tên,Điểm :Nam, 5\n",
      "Nhập Tên,Điểm :Thành,4.9\n",
      "Nhập Tên,Điểm :\n",
      "{'A': ['Hòa', 'Vân Anh'], 'B': ['Huy Lê'], 'C': ['Tuấn'], 'D': ['Nam', 'Thành'], 'F': ['Dũng', 'Mười']}\n",
      "Điểm       Sinh viên       \n",
      "A          Hòa,Vân Anh    \n",
      "B          Huy Lê         \n",
      "C          Tuấn           \n",
      "D          Nam,Thành      \n",
      "F          Dũng,Mười      \n"
     ]
    }
   ],
   "source": [
    "#Bài 2\n",
    "data=[]\n",
    "while True:\n",
    "    try:\n",
    "        a=input(\"Nhập Tên,Điểm :\")\n",
    "        if a==\"\":\n",
    "            break\n",
    "        elif float(a[a.find(\",\")+1:len(a)])>10 or float(a[a.find(\",\")+1:len(a)])<0:\n",
    "            print(\"Điểm không hợp lệ, vui lòng nhập lại\")\n",
    "        else:\n",
    "            a = tuple(x for x in a.split(\",\"))\n",
    "            data.append(a)\n",
    "    except:\n",
    "        print(\"Vui lòng nhập lại.\")\n",
    "F=[i[0] for i in data if float(i[1])>=8.5]\n",
    "D=[i[0] for i in data if 8.5>float(i[1])>=7]\n",
    "C=[i[0] for i in data if 7>float(i[1])>=5.5]\n",
    "B=[i[0] for i in data if 5.5>float(i[1])>=4]\n",
    "A=[i[0] for i in data if float(i[1])<4]\n",
    "Data=[A,B,C,D,F]\n",
    "Alpha=[\"A\",\"B\",\"C\",\"D\",\"F\"]\n",
    "diction={}\n",
    "for i in range(len(Data)):\n",
    "    diction[Alpha[i]]= Data[i] \n",
    "print(diction)\n",
    "print(\"Điểm\".ljust(10),\"Sinh viên\".ljust(16))\n",
    "for x,y in diction.items():\n",
    "    print(x.ljust(10),\",\".join(y).ljust(15))"
   ]
  },
  {
   "cell_type": "code",
   "execution_count": 388,
   "id": "c61c4a4c",
   "metadata": {},
   "outputs": [
    {
     "name": "stdout",
     "output_type": "stream",
     "text": [
      "Đường hồi quy tuyến tính: y=3.004695x+-1.746275\n"
     ]
    }
   ],
   "source": [
    "#Bài 3\n",
    "from random import uniform\n",
    "x=[i for i  in range(1,9)]\n",
    "y= [-2+3*xi+0.5*uniform(0,1) for xi in x]\n",
    "#Lưu dữ liệu vào file\n",
    "f = open(\"data.txt\",\"w\")\n",
    "for i in range(len(x)):\n",
    "    f.write(str(x[i])+\",\"+str(y[i])+\"\\n\")\n",
    "f.close()\n",
    "#Mở file lấy dữ liệu\n",
    "file= open(\"data.txt\")\n",
    "data= file.read().split(\"\\n\")\n",
    "data=[i.split(\",\") for i in data]\n",
    "data= data[:len(data)-1]\n",
    "X = [ float(i[0]) for i in data]\n",
    "Y = [ float(i[1]) for i in data]\n",
    "#Đường hồi quy\n",
    "n= len(X)\n",
    "sum_xi=sum_yi=sum_xiyi=sum_xi2=0\n",
    "for i in range(n):\n",
    "    sum_xi += X[i]\n",
    "    sum_yi += Y[i]\n",
    "    sum_xiyi += X[i]*Y[i]\n",
    "    sum_xi2 += X[i]**2\n",
    "Sxy=sum_xiyi-sum_xi*sum_yi/n\n",
    "Sxx=sum_xi2-(sum_xi**2)/n\n",
    "B1=Sxy/Sxx\n",
    "B0=sum_yi/n-sum_xi/n*B1\n",
    "print(\"Đường hồi quy tuyến tính: y={}x+{}\".format(round(B1,6),round(B0,6)))"
   ]
  },
  {
   "cell_type": "code",
   "execution_count": 389,
   "id": "36974d34",
   "metadata": {},
   "outputs": [
    {
     "data": {
      "image/png": "[encoded data removed]",
      "text/plain": [
       "<Figure size 432x288 with 1 Axes>"
      ]
     },
     "metadata": {
      "needs_background": "light"
     },
     "output_type": "display_data"
    }
   ],
   "source": [
    "# Vẽ đồ thị dữ liệu và đường hồi quy\n",
    "import matplotlib.pyplot as plt\n",
    "x0 = [i for i in range(9)]\n",
    "y0 = [x*B1+B0 for x in x0]\n",
    "plt.plot(x0,y0,label='fitted line')\n",
    "plt.plot(X,Y,'ro',label='data')\n",
    "plt.title(\"Linear Regression X-Y\")\n",
    "plt.xlabel(\"X\")\n",
    "plt.ylabel(\"Y\")\n",
    "plt.legend()\n",
    "plt.show()"
   ]
  }
 ],
 "metadata": {
  "kernelspec": {
   "display_name": "Python 3",
   "language": "python",
   "name": "python3"
  },
  "language_info": {
   "codemirror_mode": {
    "name": "ipython",
    "version": 3
   },
   "file_extension": ".py",
   "mimetype": "text/x-python",
   "name": "python",
   "nbconvert_exporter": "python",
   "pygments_lexer": "ipython3",
   "version": "3.8.8"
  }
 },
 "nbformat": 4,
 "nbformat_minor": 5
}
