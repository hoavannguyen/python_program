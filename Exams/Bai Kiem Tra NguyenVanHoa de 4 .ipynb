{
 "cells": [
  {
   "cell_type": "code",
   "execution_count": 22,
   "id": "c9dc90cf",
   "metadata": {},
   "outputs": [
    {
     "name": "stdout",
     "output_type": "stream",
     "text": [
      "Step\t1\t3.7012987012987013\t5.0\t1.2987012987012987\n",
      "Step\t2\t2.885154384606362\t3.7012987012987013\t0.8161443166923394\n",
      "Step\t3\t2.4110255536111165\t2.885154384606362\t0.4741288309952454\n",
      "Step\t4\t2.1864710726873184\t2.4110255536111165\t0.22455448092379804\n",
      "Step\t5\t2.1245160845514954\t2.1864710726873184\t0.06195498813582301\n",
      "Step\t6\t2.119662201441705\t2.1245160845514954\t0.004853883109790402\n",
      "Step\t7\t2.1196329822365776\t2.119662201441705\t2.9219205127439807e-05\n",
      "Step\t8\t2.1196329811802244\t2.1196329822365776\t1.0563532271135045e-09\n",
      "Kết quả sau  8 lần lặp: 2.1196329811802244\n"
     ]
    }
   ],
   "source": [
    "# Câu 1\n",
    "def fx(x):\n",
    "    return -3*x**3+7*x**2+x-5\n",
    "def dfx(x):\n",
    "    return -9*x**2+14*x+1\n",
    "X=[]\n",
    "x0=i= 0\n",
    "x1= x0 -fx(x0)/dfx(x0)\n",
    "X.append(x1)\n",
    "while True:\n",
    "    x_k1 = X[i]-fx(X[i])/dfx(X[i])\n",
    "    X.append(x_k1)\n",
    "    i +=1\n",
    "    print(\"Step\",i,X[i], X[i-1],abs(X[i]-X[i-1]),sep=\"\\t\" )\n",
    "    if abs(X[i]-X[i-1])<pow(10,-5):\n",
    "        break\n",
    "print(\"Kết quả sau \",i,\"lần lặp:\",X[-1])\n",
    "    "
   ]
  },
  {
   "cell_type": "code",
   "execution_count": 10,
   "id": "3f0cfca0",
   "metadata": {},
   "outputs": [
    {
     "name": "stdout",
     "output_type": "stream",
     "text": [
      "Nhập tuổi của người sử dụng vé:2\n",
      "Nhập tuổi của người sử dụng vé:3\n",
      "Nhập tuổi của người sử dụng vé:15\n",
      "Nhập tuổi của người sử dụng vé:69\n",
      "Nhập tuổi của người sử dụng vé:\n",
      "Tổng số vé: 2\n",
      "Số vé giảm 30%: 1\n",
      "Số vé giảm 20%: 0\n",
      "Chiết khấu 5%: Không\n",
      "Tổng số tiền thanh toán: 510000.0\n"
     ]
    }
   ],
   "source": [
    "#Câu 2\n",
    "lst=[]\n",
    "while True:\n",
    "    x= input(\"Nhập tuổi của người sử dụng vé:\")\n",
    "    if x==\"\":\n",
    "        break\n",
    "    lst.append(int(x))\n",
    "giam30=[i for i in lst if 60<=i<70]\n",
    "giam20=[i for i in lst if 6<=i<=10]\n",
    "free= [i for i in lst if i<=5 and i>=70]\n",
    "totalve=len(lst)-len(free)\n",
    "chietkhau= True if len(lst)>=10 else False\n",
    "if chietkhau == True:\n",
    "    total= totalve*300000-len(giam30)*(300000*0.3)-len(giam20)*(300000*0.2)\n",
    "    total=total*0.95\n",
    "else:\n",
    "    total= totalve*300000-len(giam30)*(300000*0.3)-len(giam20)*(300000*0.2)\n",
    "print(\"Tổng số vé:\",totalve)\n",
    "print(\"Số vé giảm 30%:\",len(giam30))\n",
    "print(\"Số vé giảm 20%:\",len(giam20))\n",
    "print(\"Chiết khấu 5%:\",\"Có\" if chietkhau==True else \"Không\")\n",
    "print(\"Tổng số tiền thanh toán:\",total)"
   ]
  },
  {
   "cell_type": "code",
   "execution_count": 18,
   "id": "b7d84ef1",
   "metadata": {},
   "outputs": [
    {
     "name": "stdout",
     "output_type": "stream",
     "text": [
      "['25/01/2020', ' M', ' HPG', ' 23.50', ' 250']\n",
      "['25/01/2020', ' M', ' FPT', ' 33.20', ' 100']\n",
      "['25/01/2020', ' B', ' PNJ', ' 54.70', ' 150']\n",
      "['25/01/2020', ' M', ' TVB', ' 14.20', ' 300']\n",
      "['25/01/2020', ' B', ' SSI', ' 43.50', ' 750']\n",
      "['25/01/2020', ' M', ' TCB', ' 36.70', ' 600']\n",
      "['25/01/2020', ' B', ' PAN', ' 13.00', ' 450']\n",
      "['25/01/2020', ' M', ' FPT', ' 33.50', ' 100']\n",
      "['25/01/2020', ' M', ' TCB', ' 35.40', ' 250']\n",
      "['25/01/2020', ' M', ' VND', ' 24.30', ' 400']\n",
      "['25/01/2020', ' B', ' VNM', ' 73.50', ' 550']\n",
      "['25/01/2020', ' B', ' VCB', ' 86.00', ' 500']\n",
      "['25/01/2020', ' M', ' NKG', ' 11.20', ' 400']\n",
      "['25/01/2020', ' B', ' FLC', ' 6.70', ' 1000']\n",
      "['25/01/2020', ' B', ' ROS', ' 105.20', ' 350']\n",
      "['25/01/2020', ' M', ' GEX', ' 26.20', ' 200']\n",
      "['25/01/2020', ' M', ' FMC', ' 11.70', ' 650']\n",
      "['25/01/2020', ' B', ' MBB', ' 16.50', ' 850']\n",
      "[' PNJ', ' SSI', ' PAN', ' VNM', ' VCB', ' FLC', ' ROS', ' MBB'] 187650.0\n"
     ]
    }
   ],
   "source": [
    "#Câu 3\n",
    "file = open('transaction.txt')\n",
    "elements= file.read().split(\"\\n\")\n",
    "elements=[i.split(\",\") for i in elements]\n",
    "MCKBan=[]\n",
    "total=0\n",
    "for i  in range(len(elements)):\n",
    "    print(elements[i])\n",
    "    if elements[i][1]==\" B\":\n",
    "        MCKBan.append(elements[i][2])\n",
    "        total +=float(elements[i][3])*int(elements[i][4])\n",
    "print(MCKBan,total)"
   ]
  },
  {
   "cell_type": "code",
   "execution_count": 19,
   "id": "9bb6fbd9",
   "metadata": {},
   "outputs": [],
   "source": [
    "f = open(\"BAN.txt\",'w',encoding=\"utf-8\")\n",
    "for i in MCKBan:\n",
    "    f.write(i)\n",
    "    f.write(\"\\n\")\n",
    "total=\"Tổng số tiền mua:\"+str(total)\n",
    "f.write(total)\n",
    "f.close()"
   ]
  },
  {
   "cell_type": "code",
   "execution_count": 2,
   "id": "6782b8ff",
   "metadata": {},
   "outputs": [
    {
     "name": "stdout",
     "output_type": "stream",
     "text": [
      "Nhập Tên,Điểm :Hòa,10\n",
      "Nhập Tên,Điểm :Dũng,1\n",
      "Nhập Tên,Điểm :Huy,5\n",
      "Nhập Tên,Điểm :Mười,3.14\n",
      "Nhập Tên,Điểm :\n",
      "[('Hòa', 10.0), ('Dũng', 1.0), ('Huy', 5.0), ('Mười', 3.14)]\n",
      "Điểm thi theo thứ tự cao xuống thấp:\n",
      "\tTên sinh viên:Hòa, Điểm thi Toán:10.0\n",
      "\tTên sinh viên:Huy, Điểm thi Toán:5.0\n",
      "\tTên sinh viên:Mười, Điểm thi Toán:3.14\n",
      "\tTên sinh viên:Dũng, Điểm thi Toán:1.0\n",
      "3 sinh viên có điểm cao nhất là: [('Hòa', 10.0), ('Huy', 5.0), ('Mười', 3.14)]\n"
     ]
    }
   ],
   "source": [
    "file = open(\"Employees.csv\")\n",
    "dulieu = file.read().split(\"\\n\")\n",
    "data=[i.split(\",\") for i in data]\n",
    "data= data[:len(data)-1]\n",
    "Rlist=[]\n",
    "for i in data:\n",
    "    if i[2].startswith(\"R\"):\n",
    "        info = i[1:3]+i[5:7]\n",
    "        Rlist.append(info)\n",
    "print(\"Dữ liệu Rlist:\",Rlist)\n",
    "def summary(a):\n",
    "    from math import sqrt\n",
    "    n= len(a)\n",
    "    x_tb = sum(a)/n \n",
    "    x2 = [i**2 for i in a]  \n",
    "    x2_tb = sum(x2)/n  \n",
    "    std = sqrt(n/(n-1)*(x2_tb-x_tb**2))\n",
    "    return [x_tb,std]\n",
    "Salary_Rlist= [float(i[3]) for i in Rlist]\n",
    "summary_sal= summary(Salary_Rlist)\n",
    "print(f\"GTTB của salary trong Rlist:{summary_sal[0]}\\nĐộ lệch tiêu chuẩn của salary trong Rlist:{summary_sal[1]}\")"
   ]
  }
 ],
 "metadata": {
  "kernelspec": {
   "display_name": "Python 3",
   "language": "python",
   "name": "python3"
  },
  "language_info": {
   "codemirror_mode": {
    "name": "ipython",
    "version": 3
   },
   "file_extension": ".py",
   "mimetype": "text/x-python",
   "name": "python",
   "nbconvert_exporter": "python",
   "pygments_lexer": "ipython3",
   "version": "3.8.8"
  }
 },
 "nbformat": 4,
 "nbformat_minor": 5
}
