{
 "cells": [
  {
   "cell_type": "markdown",
   "metadata": {},
   "source": [
    "## THI KẾT THÚC HỌC PHẦN\n",
    "* HỌC KỲ:  1\n",
    "* NĂM HỌC:  2021-2022\n",
    "\n",
    "### BÀI THI MÔN:\n",
    "* HỌ VÀ TÊN: Nguyễn Văn Hòa \n",
    "* LỚP HỌC PHẦN:  Toán Ứng Dụng K60\n",
    "* MÃ SINH VIÊN:  193012244\n",
    "* ĐỀ THI SỐ:  15"
   ]
  },
  {
   "cell_type": "markdown",
   "metadata": {},
   "source": [
    "### Bài 1"
   ]
  },
  {
   "cell_type": "code",
   "execution_count": 48,
   "metadata": {},
   "outputs": [
    {
     "name": "stdout",
     "output_type": "stream",
     "text": [
      "Bước\tKết quả\t\t\t\tSai số\n",
      "Step 1\t1.9337686611500722\t0.6409933326968096\n",
      "Step 2\t0.9041315788885804\t0.15614250197884205\n",
      "Step 3\t1.142282574310742\t0.027434584350338298\n",
      "Step 4\t1.2189772810495214\t0.0007641400217108796\n",
      "Step 5\t1.2075156795864903\t3.448046463017107e-06\n",
      "Step 6\t1.207826270529373\t4.3930015181103954e-10\n",
      "Kết quả sau  6 lần lặp x=: 1.2078276783685995\n"
     ]
    }
   ],
   "source": [
    "from random import randint,uniform\n",
    "x0= uniform(0,1)\n",
    "x1= uniform(1,2)\n",
    "def f(x):\n",
    "    import math\n",
    "    return math.sin(x)+3*math.cos(x)-2\n",
    "X=[]\n",
    "i=1\n",
    "X.append(x0)\n",
    "X.append(x1)\n",
    "print(\"Bước\",\"Kết quả\",\"\\t\\t\\tSai số\",sep=\"\\t\")\n",
    "while True:\n",
    "    x_i1 = X[i]-((X[i]-X[i-1])*f(X[i]))/(f(X[i])-f(X[i-1]))\n",
    "    X.append(x_i1)\n",
    "    print(f\"Step {i}\",X[i],abs(f(x_i1)),sep=\"\\t\" )\n",
    "    i +=1\n",
    "    if abs(f(x_i1))<pow(10,-6) or i==100:\n",
    "        break\n",
    "print(\"Kết quả sau \",i-1,\"lần lặp x=:\",X[-1])"
   ]
  },
  {
   "cell_type": "markdown",
   "metadata": {},
   "source": [
    "### Bài 2"
   ]
  },
  {
   "cell_type": "code",
   "execution_count": 14,
   "metadata": {},
   "outputs": [
    {
     "name": "stdout",
     "output_type": "stream",
     "text": [
      "Nhập Tên,Điểm :Hòa,10\n",
      "Nhập Tên,Điểm :Hiếu,6\n",
      "Nhập Tên,Điểm :Huy,3\n",
      "Nhập Tên,Điểm :Dũng,7\n",
      "Nhập Tên,Điểm :Mười,3.14\n",
      "Nhập Tên,Điểm :Vân Anh,8.5\n",
      "Nhập Tên,Điểm :\n",
      "Dữ liệu: [('Hòa', 10.0), ('Hiếu', 6.0), ('Huy', 3.0), ('Dũng', 7.0), ('Mười', 3.14), ('Vân Anh', 8.5)]\n",
      "Điểm thi theo thứ tụ cao xuống thấp:\n",
      "\tTên:Hòa, Điểm:10.0\n",
      "\tTên:Vân Anh, Điểm:8.5\n",
      "\tTên:Dũng, Điểm:7.0\n",
      "\tTên:Hiếu, Điểm:6.0\n",
      "\tTên:Mười, Điểm:3.14\n",
      "\tTên:Huy, Điểm:3.0\n",
      "3 sinh viên có điểm cao nhất: [('Hòa', 10.0), ('Vân Anh', 8.5), ('Dũng', 7.0)]\n"
     ]
    }
   ],
   "source": [
    "data=[]\n",
    "while True:\n",
    "    try:\n",
    "        a=input(\"Nhập Tên,Điểm :\")\n",
    "        if a==\"\":\n",
    "            break\n",
    "        elif float(a[a.find(\",\")+1:len(a)])>10 or float(a[a.find(\",\")+1:len(a)])<0:\n",
    "            print(\"Điểm không hợp lệ, vui lòng nhập lại\")\n",
    "        else:\n",
    "            a = a.split(\",\")\n",
    "            info = (a[0],float(a[1]))\n",
    "            data.append(info)\n",
    "    except:\n",
    "        print(\"Vui lòng nhập lại.\")\n",
    "\n",
    "print(\"Dữ liệu:\",data)\n",
    "sort_data= [i for i in data]\n",
    "for i in range(len(sort_data)):\n",
    "    for j in range(i,len(sort_data)):\n",
    "        if sort_data[i][1]< sort_data[j][1]:\n",
    "            temp= sort_data[j]\n",
    "            sort_data[j]=sort_data[i]\n",
    "            sort_data[i]= temp  \n",
    "print(\"Điểm thi theo thứ tụ cao xuống thấp:\")\n",
    "for i in sort_data:\n",
    "    print(f\"\\tTên:{i[0]}, Điểm:{i[1]}\")\n",
    "print(\"3 sinh viên có điểm cao nhất:\",sort_data[:3])"
   ]
  },
  {
   "cell_type": "markdown",
   "metadata": {},
   "source": [
    "### Bài 3"
   ]
  },
  {
   "cell_type": "code",
   "execution_count": 21,
   "metadata": {},
   "outputs": [
    {
     "name": "stdout",
     "output_type": "stream",
     "text": [
      "Dữ liệu Rlist: [['Brenda', 'Robinson', '9.01', '51063'], ['Joe', 'Robinson', '0.98', '50155'], ['Benjamin', 'Russell', '4.01', '117642'], ['Ruby', 'Rogers', '3.91', '160623'], ['Anne', 'Russell', '3.68', '103160'], ['Roger', 'Roberts', '8.5', '129625'], ['Alan', 'Rivera', '11.15', '154810'], ['Clarence', 'Ross', '8.58', '165272'], ['Antonio', 'Roberts', '0.24', '181646'], ['Cynthia', 'Ramirez', '8.44', '90531']]\n",
      "GTTB của salary trong Rlist:120452.7\n",
      "Độ lệch tiêu chuẩn của salary trong Rlist:46655.40399817939\n"
     ]
    }
   ],
   "source": [
    "file = open(\"Employees.csv\")\n",
    "data = file.read().split(\"\\n\")\n",
    "data=[i.split(\",\") for i in data]\n",
    "data= data[:len(data)-1]\n",
    "Rlist=[]\n",
    "for i in data:\n",
    "    if i[2].startswith(\"R\"):\n",
    "        info = i[1:3]+i[5:7]\n",
    "        Rlist.append(info)\n",
    "print(\"Dữ liệu Rlist:\",Rlist)\n",
    "def summary(a):\n",
    "    from math import sqrt\n",
    "    n= len(a)\n",
    "    x_tb = sum(a)/n \n",
    "    x2 = [i**2 for i in a]  \n",
    "    x2_tb = sum(x2)/n  \n",
    "    std = sqrt(n*(x2_tb-x_tb**2)/(n-1))\n",
    "    return [x_tb,std]\n",
    "Salary_Rlist= [float(i[3]) for i in Rlist]\n",
    "summary_sal= summary(Salary_Rlist)\n",
    "print(f\"GTTB của salary trong Rlist:{summary_sal[0]}\\nĐộ lệch tiêu chuẩn của salary trong Rlist:{summary_sal[1]}\")"
   ]
  },
  {
   "cell_type": "code",
   "execution_count": 42,
   "metadata": {},
   "outputs": [
    {
     "name": "stdout",
     "output_type": "stream",
     "text": [
      "1959054050.0099998\n"
     ]
    }
   ],
   "source": [
    "import numpy as np\n",
    "X = [51063,50155,117642,160623,103160,129625,154810,165272,181646,90531]\n",
    "n=len(X)\n",
    "xtb=sum(X)/len(X)\n",
    "std=0\n",
    "for i in X:\n",
    "    std+= (i-xtb)**2\n",
    "print(std/n)"
   ]
  },
  {
   "cell_type": "code",
   "execution_count": 28,
   "metadata": {},
   "outputs": [
    {
     "data": {
      "text/plain": [
       "44261.20253687195"
      ]
     },
     "execution_count": 28,
     "metadata": {},
     "output_type": "execute_result"
    }
   ],
   "source": [
    "from math import sqrt\n",
    "sqrt(std/len(X))"
   ]
  },
  {
   "cell_type": "code",
   "execution_count": 44,
   "metadata": {},
   "outputs": [
    {
     "name": "stdout",
     "output_type": "stream",
     "text": [
      "1959054050.0100002\n"
     ]
    }
   ],
   "source": [
    "x2 = [i**2 for i in X]  \n",
    "x2_tb = sum(x2)/len(X)\n",
    "var=x2_tb-xtb**2\n",
    "print(var)"
   ]
  }
 ],
 "metadata": {
  "kernelspec": {
   "display_name": "Python 3",
   "language": "python",
   "name": "python3"
  },
  "language_info": {
   "codemirror_mode": {
    "name": "ipython",
    "version": 3
   },
   "file_extension": ".py",
   "mimetype": "text/x-python",
   "name": "python",
   "nbconvert_exporter": "python",
   "pygments_lexer": "ipython3",
   "version": "3.8.8"
  }
 },
 "nbformat": 4,
 "nbformat_minor": 4
}
