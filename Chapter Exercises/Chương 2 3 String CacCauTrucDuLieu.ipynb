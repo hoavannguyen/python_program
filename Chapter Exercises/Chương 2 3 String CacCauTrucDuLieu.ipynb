{
 "cells": [
  {
   "cell_type": "markdown",
   "id": "84953774",
   "metadata": {},
   "source": [
    "# Chuỗi (mở rộng)"
   ]
  },
  {
   "cell_type": "code",
   "execution_count": 70,
   "id": "d9aafefa",
   "metadata": {},
   "outputs": [
    {
     "name": "stdout",
     "output_type": "stream",
     "text": [
      "1+2+3+2+1+3+2+1+4+1+2+4\n",
      "------------------------------\n",
      "Nhập chuỗi muốn tìm kiếm:sdd\n",
      "a là chuỗi con\n"
     ]
    }
   ],
   "source": [
    "num=123213214124\n",
    "print(\"+\".join(str(num)))\n",
    "print(\"-\"*30)\n",
    "#### Tìm kiếm chuỗi con\n",
    "st=\"aaaaavvaxasssdd\"\n",
    "a=input(\"Nhập chuỗi muốn tìm kiếm:\")\n",
    "for i in range(len(st)):\n",
    "    if st[i:i+len(a)]==a:\n",
    "        print(\"a là chuỗi con\")\n",
    "        break\n",
    "if i==len(st)-1:\n",
    "    print(\"a không là chuỗi con\")"
   ]
  },
  {
   "cell_type": "code",
   "execution_count": 171,
   "id": "576650e4",
   "metadata": {},
   "outputs": [
    {
     "name": "stdout",
     "output_type": "stream",
     "text": [
      "Nhập chuỗi:ádasfa23141a\n",
      "Tổng số trong chuỗi: 11\n"
     ]
    }
   ],
   "source": [
    "#Bài 1.1\n",
    "st=input(\"Nhập chuỗi:\")\n",
    "s=count=0\n",
    "for i in st:\n",
    "    if i.isdigit()==True:\n",
    "        s+=int(i)\n",
    "        count+=1\n",
    "if count==0:\n",
    "    print(\"Không có số trong chuỗi\")\n",
    "else:\n",
    "    print(\"Tổng số trong chuỗi:\",s)"
   ]
  },
  {
   "cell_type": "code",
   "execution_count": 13,
   "id": "600e25a3",
   "metadata": {
    "scrolled": true
   },
   "outputs": [
    {
     "name": "stdout",
     "output_type": "stream",
     "text": [
      "Nhập chuỗi 1:5554\n",
      "Nhập chuỗi 2:4555\n",
      "Hai chuỗi là chuỗi hoán vị\n"
     ]
    }
   ],
   "source": [
    "#Bài 1.2\n",
    "s1=input(\"Nhập chuỗi 1:\")\n",
    "s2=input(\"Nhập chuỗi 2:\")\n",
    "if sorted(s1)==sorted(s2):\n",
    "    print(\"Hai chuỗi là chuỗi hoán vị\")\n",
    "else:\n",
    "    print(\"Hai chuỗi không là chuỗi hoán vị\")"
   ]
  },
  {
   "cell_type": "code",
   "execution_count": 18,
   "id": "641dec97",
   "metadata": {},
   "outputs": [
    {
     "name": "stdout",
     "output_type": "stream",
     "text": [
      "Nhập chuỗi:aaaavvvvccdsaerssdd\n",
      "a4v4c2dsaers2d2\n"
     ]
    }
   ],
   "source": [
    "#Bài 1.3\n",
    "st=input(\"Nhập chuỗi:\")\n",
    "a=0\n",
    "newst=\"\"\n",
    "#print(len(st))\n",
    "while a<len(st):\n",
    "    count=1\n",
    "    for i in range(a,len(st)):\n",
    "        if i==len(st)-1:\n",
    "            break\n",
    "        elif st[i]==st[i+1]:\n",
    "            count+=1\n",
    "        else:\n",
    "            break\n",
    "    if count==1:\n",
    "        newst+=st[a]\n",
    "    else:\n",
    "        newst+=st[a]+str(count)\n",
    "    a+=count\n",
    "print(newst)"
   ]
  },
  {
   "cell_type": "code",
   "execution_count": 4,
   "id": "b922b833",
   "metadata": {},
   "outputs": [
    {
     "name": "stdout",
     "output_type": "stream",
     "text": [
      "0.8475\n"
     ]
    }
   ],
   "source": [
    "#Bài 1.4\n",
    "st=\"X-DSPAM-Confidence:0.8475\"\n",
    "a=float(st[st.find(\":\")+1:])\n",
    "print(a)"
   ]
  },
  {
   "cell_type": "code",
   "execution_count": 5,
   "id": "62cf80a4",
   "metadata": {},
   "outputs": [
    {
     "name": "stdout",
     "output_type": "stream",
     "text": [
      "Nhập chuỗi kí tự 3 số: 123\n",
      "1 + 2 = 3\n"
     ]
    }
   ],
   "source": [
    "#Bài 1.5   Làm lại\n",
    "st=input(\"Nhập chuỗi kí tự 3 số: \")\n",
    "if eval(st[0]+\"+\"+st[1])==int(st[2]):\n",
    "    print(st[0],\"+\",st[1],\"=\",st[2])\n",
    "else:\n",
    "    print(\"Không có cách đặt phù hợp\")"
   ]
  },
  {
   "cell_type": "code",
   "execution_count": 24,
   "id": "499d538b",
   "metadata": {},
   "outputs": [
    {
     "name": "stdout",
     "output_type": "stream",
     "text": [
      "Nhập chuỗi:Z 9 z\n",
      "Nhập khóa d:1\n",
      "A 0 A\n"
     ]
    }
   ],
   "source": [
    "#Bài 1.6\n",
    "st=input(\"Nhập chuỗi:\")\n",
    "d=int(input(\"Nhập khóa d:\"))\n",
    "newst=\"\"\n",
    "for i in st:\n",
    "    if \"A\"<= i <=\"Z\":\n",
    "        newst+=chr((ord(i)+d-65)%26 + 65)\n",
    "    elif \"a\"<= i <=\"z\":\n",
    "        newst+=chr((ord(i)+d-97)%26 + 65)\n",
    "    elif \"0\"<= i <=\"9\":\n",
    "        newst+=chr((ord(i)+d-48)%10 + 48)\n",
    "    else:\n",
    "        newst+=i\n",
    "print(newst)"
   ]
  },
  {
   "cell_type": "markdown",
   "id": "50882854",
   "metadata": {},
   "source": [
    "# List"
   ]
  },
  {
   "cell_type": "code",
   "execution_count": 22,
   "id": "ac041712",
   "metadata": {},
   "outputs": [
    {
     "name": "stdout",
     "output_type": "stream",
     "text": [
      "[1, 2, 3, 12123, 123, 5, 6]\n"
     ]
    }
   ],
   "source": [
    "ds1=[1,2,3]+[12123,123]\n",
    "ds2=[5,6]\n",
    "ds1.extend(ds2)\n",
    "print(ds1)"
   ]
  },
  {
   "cell_type": "code",
   "execution_count": 25,
   "id": "3a881d98",
   "metadata": {},
   "outputs": [
    {
     "name": "stdout",
     "output_type": "stream",
     "text": [
      "Nhập số phần tử của list:6\n",
      "Nhập k=5\n",
      "Nhập phần tử thứ 0:4\n",
      "Nhập phần tử thứ 1:3\n",
      "Nhập phần tử thứ 2:2\n",
      "Nhập phần tử thứ 3:1\n",
      "Nhập phần tử thứ 4:0\n",
      "Nhập phần tử thứ 5:2\n",
      "List nhập: [4, 3, 2, 1, 0, 2]\n",
      "[4, 3, 2, 1, 0]\n",
      "[3, 2, 1, 0, 2]\n",
      "************************* \n",
      "Dãy con gồm 5 phần tử có tổng lớn nhất là [4, 3, 2, 1, 0]\n",
      "Giá trị: 10\n"
     ]
    }
   ],
   "source": [
    "#Bài 2.1\n",
    "n=int(input(\"Nhập số phần tử của list:\"))\n",
    "k=int(input(\"Nhập k=\"))\n",
    "lst=[]\n",
    "for i in range(n):\n",
    "    x=int(input(\"Nhập phần tử thứ %d:\"%i))\n",
    "    lst.append(x)\n",
    "print(\"List nhập:\",lst)\n",
    "max=sum(lst[0:0+k])\n",
    "for i in range(len(lst)-k+1):\n",
    "    print(lst[i:i+k])\n",
    "    if sum(lst[i:i+k])>=max:\n",
    "        max=sum(lst[i:i+k])\n",
    "        a=i\n",
    "print(\"*\"*25,\"\\nDãy con gồm {} phần tử có tổng lớn nhất là {}\".format(k,lst[a:a+k]))\n",
    "print(\"Giá trị:\",max)\n",
    "        "
   ]
  },
  {
   "cell_type": "code",
   "execution_count": 2,
   "id": "5109c2ac",
   "metadata": {},
   "outputs": [
    {
     "name": "stdout",
     "output_type": "stream",
     "text": [
      "Nhập số phần tử của list:1\n",
      "Nhập phần tử thứ 0:2\n",
      "******************** \n",
      "Số dương nhỏ nhất: 2.0\n",
      "Chỉ số: 0\n"
     ]
    }
   ],
   "source": [
    "#Bài 2.2\n",
    "n=int(input(\"Nhập số phần tử của list:\"))\n",
    "lst=[]\n",
    "for i in range(n):\n",
    "    x=float(input(\"Nhập phần tử thứ {}:\".format(i)))\n",
    "    lst.append(x)\n",
    "newlst=[i for i in lst if i>0]\n",
    "if len(newlst)>0:\n",
    "    a=min(newlst)\n",
    "    print(\"*\"*20,\"\\nSố dương nhỏ nhất:\",a)\n",
    "    print(\"Chỉ số:\",lst.index(a))\n",
    "else:\n",
    "    print(\"Không có số dương trong danh sách\")"
   ]
  },
  {
   "cell_type": "code",
   "execution_count": 27,
   "id": "801b3342",
   "metadata": {},
   "outputs": [
    {
     "name": "stdout",
     "output_type": "stream",
     "text": [
      "Nhập số:\n",
      "Danh sách được tạo: []\n",
      "Danh sách trống\n"
     ]
    }
   ],
   "source": [
    "#Bài 2.3\n",
    "lst=[]\n",
    "while True:\n",
    "    x=input(\"Nhập số:\")\n",
    "    if x==\"\":\n",
    "        break\n",
    "    if lst.count(float(x))==0:\n",
    "        lst.append(float(x))\n",
    "    else:\n",
    "        print(\"Nhập trùng rồi.\")\n",
    "print(\"Danh sách được tạo:\",lst)\n",
    "if len(lst)>0:\n",
    "    print(\"Giá trị trung bình:\",sum(lst)/len(lst))\n",
    "else:\n",
    "    print(\"Danh sách trống\")"
   ]
  },
  {
   "cell_type": "markdown",
   "id": "be96ba7b",
   "metadata": {},
   "source": [
    "# List mở rộng"
   ]
  },
  {
   "cell_type": "code",
   "execution_count": 8,
   "id": "218ee542",
   "metadata": {},
   "outputs": [
    {
     "name": "stdout",
     "output_type": "stream",
     "text": [
      "[2, 'a', 'b', 'c', -3, 1]\n"
     ]
    }
   ],
   "source": [
    "lst=[[2],['a','b','c'],[-3,1]]\n",
    "newlst=[]\n",
    "for i in lst:\n",
    "    newlst+=i\n",
    "print(newlst)"
   ]
  },
  {
   "cell_type": "code",
   "execution_count": 1,
   "id": "1bf57908",
   "metadata": {
    "scrolled": true
   },
   "outputs": [
    {
     "name": "stdout",
     "output_type": "stream",
     "text": [
      "Nhập số phần tử của list:1\n",
      "Nhập n=2\n",
      "Lỗi:Số phần tử bị xóa lớn hơn số phần tử của danh sách.\n"
     ]
    }
   ],
   "source": [
    "#Bài 3.1\n",
    "from builtins import max,min\n",
    "a=int(input(\"Nhập số phần tử của list:\"))\n",
    "n=int(input(\"Nhập n=\"))\n",
    "if a>=2*n:\n",
    "    lst=[]\n",
    "    for i in range(a):\n",
    "        x=float(input(\"Nhập phần tử thứ %d:\"%i+1))\n",
    "        lst.append(x)\n",
    "    for i in range(n):\n",
    "        lst.remove(max(lst))\n",
    "        lst.remove(min(lst))\n",
    "    print(lst)\n",
    "else:\n",
    "    print(\"Lỗi:Số phần tử bị xóa lớn hơn số phần tử của danh sách.\")\n",
    "\n"
   ]
  },
  {
   "cell_type": "code",
   "execution_count": 7,
   "id": "65f912d0",
   "metadata": {},
   "outputs": [
    {
     "name": "stdout",
     "output_type": "stream",
     "text": [
      "Nhập n=15\n",
      "[4, 9, 1, 5, 2, 6, 2, 2, 10, 7, 10, 6, 4, 10, 5]\n",
      "Số 4 xuất hiện 2 lần\n",
      "Số 9 xuất hiện 1 lần\n",
      "Số 1 xuất hiện 1 lần\n",
      "Số 5 xuất hiện 2 lần\n",
      "Số 2 xuất hiện 3 lần\n",
      "Số 6 xuất hiện 2 lần\n",
      "Số 10 xuất hiện 3 lần\n",
      "Số 7 xuất hiện 1 lần\n"
     ]
    }
   ],
   "source": [
    "#Bài 3.2\n",
    "from random import randint\n",
    "n=int(input(\"Nhập n=\"))\n",
    "lst=[]\n",
    "for i in range(n):\n",
    "    lst.append(randint(0,10))\n",
    "print(lst)\n",
    "newlst=[]\n",
    "for i in lst:\n",
    "    if newlst.count(i)==0:\n",
    "        newlst.append(i)\n",
    "for i in newlst:\n",
    "    print(\"Số {} xuất hiện {} lần\".format(i,lst.count(i)))"
   ]
  },
  {
   "cell_type": "code",
   "execution_count": 168,
   "id": "93460025",
   "metadata": {},
   "outputs": [
    {
     "name": "stdout",
     "output_type": "stream",
     "text": [
      "Nhập x:1\n",
      "Nhập y:2\n",
      "Nhập x:3\n",
      "Nhập y:4\n",
      "Nhập x:\n",
      "Dữ liệu: [[1.0, 3.0], [2.0, 4.0]]\n",
      "Đường hồi quy tuyến tính: y=1.0x+1.0\n"
     ]
    }
   ],
   "source": [
    "#Bài 3.3\n",
    "a=[]\n",
    "b=[]\n",
    "while True:\n",
    "    x=input(\"Nhập x:\")\n",
    "    if x==\"\":\n",
    "        break\n",
    "    y=input(\"Nhập y:\")\n",
    "    a.append(float(x))\n",
    "    b.append(float(y))\n",
    "xi=sum(a)\n",
    "yi=sum(b)\n",
    "xiyi=[a[i]*b[j] for i in range(len(a)) for j in range(len(b)) if i==j ]\n",
    "xi2=[i*i for i in a]\n",
    "Sxy=sum(xiyi)-xi*yi/len(a)\n",
    "Sxx=sum(xi2)-(xi**2)/len(a)\n",
    "B1=Sxy/Sxx\n",
    "B0=yi/len(b)-xi/len(a)*B1\n",
    "print(\"Dữ liệu:\",[a,b])\n",
    "print(\"Đường hồi quy tuyến tính: y={}x+{}\".format(round(B1,6),round(B0,6)))"
   ]
  },
  {
   "cell_type": "markdown",
   "id": "391c4270",
   "metadata": {},
   "source": [
    "# Tuple"
   ]
  },
  {
   "cell_type": "code",
   "execution_count": 2,
   "id": "7bd34f07",
   "metadata": {},
   "outputs": [
    {
     "name": "stdout",
     "output_type": "stream",
     "text": [
      "6\n",
      "15\n",
      "24\n"
     ]
    }
   ],
   "source": [
    "#Gán nhiều giá trị\n",
    "t=((1,2,3),(4,5,6),(7,8,9))\n",
    "for a,b,c in t:\n",
    "    print(a+b+c)"
   ]
  },
  {
   "cell_type": "code",
   "execution_count": 200,
   "id": "4b64bd8a",
   "metadata": {},
   "outputs": [
    {
     "name": "stdout",
     "output_type": "stream",
     "text": [
      "Nhập số lần mua cổ phiếu:5\n",
      "Lần 1:  Ngày mua:10-September-2021\n",
      "\tGiá mua:55\n",
      "\tSố lượng cổ phiếu:120\n",
      "\tMã CK:HOA\n",
      "\tGiá hiện tại:99\n",
      "Lần 2:  Ngày mua:10-September-2021\n",
      "\tGiá mua:32\n",
      "\tSố lượng cổ phiếu:122\n",
      "\tMã CK:VAN\n",
      "\tGiá hiện tại:52\n",
      "Lần 3:  Ngày mua:10-September-2021\n",
      "\tGiá mua:69\n",
      "\tSố lượng cổ phiếu:39\n",
      "\tMã CK:NGUYEN\n",
      "\tGiá hiện tại:79\n",
      "Lần 4:  Ngày mua:10-September-2021\n",
      "\tGiá mua:88\n",
      "\tSố lượng cổ phiếu:45\n",
      "\tMã CK:PY\n",
      "\tGiá hiện tại:61\n",
      "Lần 5:  Ngày mua:10-September-2021\n",
      "\tGiá mua:121\n",
      "\tSố lượng cổ phiếu:122\n",
      "\tMã CK:THON\n",
      "\tGiá hiện tại:55\n",
      "[('10-September-2021', 55.0, 120, 'HOA', 99.0), ('10-September-2021', 32.0, 122, 'VAN', 52.0), ('10-September-2021', 69.0, 39, 'NGUYEN', 79.0), ('10-September-2021', 88.0, 45, 'PY', 61.0), ('10-September-2021', 121.0, 122, 'THON', 55.0)]\n",
      "************************* \n",
      "Tổng số tiền tổng đầu tư: 31917.0\n",
      "Các mã CK lãi: ['HOA', 'VAN', 'NGUYEN'] \n",
      "Các mã CK lỗ: ['PY', 'THON']\n",
      "[5280.0, 2440.0, 390.0] [-1215.0, -8052.0]\n",
      "Đầu tư vỡ nợ : -1157.0\n"
     ]
    }
   ],
   "source": [
    "#Bài 4.1\n",
    "n=int(input(\"Nhập số lần mua cổ phiếu:\"))\n",
    "portfolio=[]\n",
    "for i in range(n):\n",
    "    print(\"Lần {}:\".format(i+1),end=\"  \")    #Có thể nhập string rồi split(\",\") rồi đổi số sang float\n",
    "    a=input(\"Ngày mua:\")\n",
    "    b=float(input(\"\\tGiá mua:\"))\n",
    "    c=int(input(\"\\tSố lượng cổ phiếu:\"))\n",
    "    d=input(\"\\tMã CK:\")\n",
    "    e=float(input(\"\\tGiá hiện tại:\"))\n",
    "    portfolio.append((a,b,c,d,e))\n",
    "print(portfolio)\n",
    "tongdautu=0\n",
    "for i in portfolio:\n",
    "    tongdautu+=i[1]*i[2]\n",
    "macklai=[i[3] for i in portfolio if i[4]>i[1]]\n",
    "macklo=[i[3] for i in portfolio if i[4]<i[1]]\n",
    "dstonglai=[(i[4]-i[1])*i[2] for i in portfolio if i[4]>i[1]]\n",
    "dstonglo=[(i[4]-i[1])*i[2] for i in portfolio if i[4]<i[1]]\n",
    "print(\"*\"*25,\"\\nTổng số tiền tổng đầu tư:\",tongdautu)\n",
    "print(\"Các mã CK lãi:\",macklai,\"\\nCác mã CK lỗ:\",macklo)\n",
    "print(dstonglai,dstonglo)\n",
    "if sum(dstonglai)+sum(dstonglo)>=0:\n",
    "    print(\"Đầu tư lãi tổng:\",sum(dstonglai)+sum(dstonglo))\n",
    "else:\n",
    "    print(\"Đầu tư lỗ :\",sum(dstonglai)+sum(dstonglo))"
   ]
  },
  {
   "cell_type": "code",
   "execution_count": 34,
   "id": "2c3b10ee",
   "metadata": {},
   "outputs": [
    {
     "name": "stdout",
     "output_type": "stream",
     "text": [
      "[('25-Jan-2001', 43.5, 25, 'CAT', 92.45), ('25-Jan-2001', 42.8, 50, 'DD', 51.19), ('25-Jan-2001', 42.1, 75, 'EK', 34.87), ('25-Jan-2001', 37.58, 100, 'GM', 37.58)]\n",
      "Tổng số tiền tổng đầu tư: 10143.0\n",
      "Các mã CK lãi: ['CAT', 'DD', 'GM'] \n",
      "Các mã CK lỗ: ['EK']\n",
      "Đầu tư lãi tổng: 1100.9999999999995\n"
     ]
    }
   ],
   "source": [
    "portfolio=[(\"25-Jan-2001\",43.50,25,'CAT',92.45),(\"25-Jan-2001\",42.80,50,'DD',51.19),(\"25-Jan-2001\",42.10,75,'EK',34.87),(\"25-Jan-2001\",37.58,100,'GM',37.58)]\n",
    "print(portfolio)\n",
    "dstongdautu=[i[1]*i[2] for i in portfolio]\n",
    "macklai=[i[3] for i in portfolio if i[4]>=i[1]]\n",
    "macklo=[i[3] for i in portfolio if i[4]<i[1]]\n",
    "dstonglai=[abs(i[1]-i[4])*i[2] for i in portfolio if i[4]>=i[1]]\n",
    "dstonglo=[abs(i[1]-i[4])*i[2] for i in portfolio if i[4]<i[1]]\n",
    "tonglailo=sum(dstonglai)-sum(dstonglo)\n",
    "print(\"Tổng số tiền tổng đầu tư:\",sum(dstongdautu))\n",
    "print(\"Các mã CK lãi:\",macklai,\"\\nCác mã CK lỗ:\",macklo)\n",
    "if tonglailo >=0:\n",
    "    print(\"Đầu tư lãi tổng:\",tonglailo)\n",
    "else:\n",
    "    print(\"Đầu tư lỗ tổng:\",tonglailo)"
   ]
  },
  {
   "cell_type": "code",
   "execution_count": 2,
   "id": "78f35563",
   "metadata": {},
   "outputs": [
    {
     "name": "stdout",
     "output_type": "stream",
     "text": [
      "Nhập n:200\n",
      "Data= [(-10, 5), (-9, 9), (-8, 8), (-7, 6), (-6, 13), (-5, 10), (-4, 9), (-3, 12), (-2, 11), (-1, 15), (0, 10), (1, 6), (2, 10), (3, 9), (4, 4), (5, 6), (6, 14), (7, 9), (8, 10), (9, 8), (10, 16)]\n",
      "Giá trị trung bình: 0.42 \n",
      "Phương sai: 36.1945728643216 \n",
      "Độ lệch chuẩn: 6.016192555455785\n",
      "Trung vị: 0.0 \n",
      "Mode: [10] \n",
      "Độ rộng: 20\n"
     ]
    }
   ],
   "source": [
    "# Bài 4.2\n",
    "from random import randint\n",
    "from math import sqrt\n",
    "while True:\n",
    "    n=int(input(\"Nhập n:\"))\n",
    "    if 0<n<1e+3:\n",
    "        break\n",
    "    else:\n",
    "        print(\"Lỗi: n không hợp lệ vui lòng nhập lại.\")\n",
    "lst=[]\n",
    "sed=[]\n",
    "for i in range(n):\n",
    "    a=randint(-10,10)\n",
    "    lst.append(a)\n",
    "    if sed.count(a)==0:\n",
    "        sed.append(a)\n",
    "lst.sort()     #sắp xếp để tìm trung vị\n",
    "data=[]\n",
    "maxcount=lst.count(sed[0])\n",
    "for i in sorted(sed):\n",
    "    a=(i,lst.count(i))\n",
    "    data.append(a)\n",
    "    if lst.count(i)>maxcount:     # maxcount dùng để tìm mode\n",
    "        maxcount=lst.count(i)\n",
    "xtb=sum(lst)/n \n",
    "x2=[pow(i[0],2)*i[1] for i in data]   #List các x^2*n\n",
    "x2tb=sum(x2)/n  #Tính trung bình x^2\n",
    "var=n/(n-1)*(x2tb-xtb**2) \n",
    "median=(sum(lst[n//2-1:n//2+1])/2, lst[n//2])[n % 2] # Phương thức: Lấy 1 giá trị trong tuple gồm 2 giá trị (2 trường hợp) \n",
    "mode= [i[0] for i in data if i[1]==maxcount] #List các mode//1 trường hợp n lẻ và n chẵn [] ở cuối là vị trí của giá trị trong tuple  \n",
    "rangedata=max(sed)-min(sed)\n",
    "print(\"Data=\",data)\n",
    "print(\"Giá trị trung bình:\",xtb,\"\\nPhương sai:\",var,\"\\nĐộ lệch chuẩn:\",sqrt(var))\n",
    "print(\"Trung vị:\",median,\"\\nMode:\",mode,\"\\nĐộ rộng:\",rangedata)"
   ]
  },
  {
   "cell_type": "code",
   "execution_count": 3,
   "id": "039f1583",
   "metadata": {},
   "outputs": [],
   "source": [
    "lst=[0,1]"
   ]
  },
  {
   "cell_type": "code",
   "execution_count": 5,
   "id": "f16e910e",
   "metadata": {},
   "outputs": [
    {
     "name": "stdout",
     "output_type": "stream",
     "text": [
      "[5.5, 6.0, 6.0, 6.5, 6.8, 7.2, 7.5, 8.0, 8.5, 8.5, 8.5, 9.0]\n",
      "88.0 12\n",
      "Data= [(5.5, 1), (6.0, 2), (6.5, 1), (6.8, 1), (7.2, 1), (7.5, 1), (8.0, 1), (8.5, 3), (9.0, 1)]\n",
      "Giá trị trung bình: 7.333333333333333 \n",
      "Phương sai: 1.386060606060619 \n",
      "Độ lệch chuẩn: 1.1773107516966874\n",
      "Trung vị: 7.35 \n",
      "Mode: [8.5] \n",
      "Độ rộng: 3.5\n",
      "-1.5572212609892633\n",
      "-1.132524553446737\n",
      "-1.132524553446737\n",
      "-0.7078278459042104\n",
      "-0.4530098213786948\n",
      "-0.1132524553446733\n",
      "0.1415655691808424\n",
      "0.5662622767233688\n",
      "0.9909589842658952\n",
      "0.9909589842658952\n",
      "0.9909589842658952\n",
      "1.4156556918084218\n"
     ]
    }
   ],
   "source": [
    "from math import sqrt\n",
    "#lst=[9.1,4.5,5.3,6.7,6.5,7.0,6.0,5.5,7.0,7.0,8.5,8.6]\n",
    "lst=[8.5,5.5,6.0,7.5,8.5,6.0,6.5,6.8,9.0,7.2,8.0,8.5]\n",
    "#lst=[lst1[i]*lst2[j] for i in range(len(lst1)) for j in range(len(lst2)) if i==j ]\n",
    "n=len(lst)\n",
    "sed=set(lst)\n",
    "sed=list(sed)    #sắp xếp để tìm trung vị\n",
    "lst.sort()\n",
    "print(lst)\n",
    "#print((sum(lst)-10*11.8*8.52)/(10*4.5*4.2))\n",
    "data=[]\n",
    "maxcount=lst.count(sed[0])\n",
    "for i in sorted(sed):\n",
    "    a=(i,lst.count(i))\n",
    "    data.append(a)\n",
    "    if lst.count(i)>maxcount:     # maxcount dùng để tìm mode\n",
    "        maxcount=lst.count(i)\n",
    "xtb=sum(lst)/n \n",
    "x2=[pow(i[0],2)*i[1] for i in data]   #List các x^2*n\n",
    "x2tb=sum(x2)/n  #Tính trung bình x^2\n",
    "var=n/(n-1)*(x2tb-xtb**2) \n",
    "median=(sum(lst[n//2-1:n//2+1])/2, lst[n//2])[n % 2] # Phương thức: Lấy 1 giá trị trong tuple gồm 2 giá trị (2 trường hợp) \n",
    "mode= [i[0] for i in data if i[1]==maxcount] #List các mode//1 trường hợp n lẻ và n chẵn [] ở cuối là vị trí của giá trị trong tuple  \n",
    "rangedata=max(sed)-min(sed)\n",
    "print(sum(lst),len(lst))\n",
    "print(\"Data=\",data)\n",
    "print(\"Giá trị trung bình:\",xtb,\"\\nPhương sai:\",var,\"\\nĐộ lệch chuẩn:\",sqrt(var))\n",
    "print(\"Trung vị:\",median,\"\\nMode:\",mode,\"\\nĐộ rộng:\",rangedata)\n",
    "for i in lst:\n",
    "    print((i-xtb)/sqrt(var))"
   ]
  },
  {
   "cell_type": "code",
   "execution_count": null,
   "id": "947f4f76",
   "metadata": {},
   "outputs": [],
   "source": [
    "#Bài 4.3\n",
    "data=[]\n",
    "while True:\n",
    "    a=input(\"Nhập (x,y):\")\n",
    "    if a==\"\":\n",
    "        break\n",
    "    a = tuple(float(x) for x in a.split(\",\"))\n",
    "    data.append(a)\n",
    "n=len(data)\n",
    "xi=[i[0] for i in data]\n",
    "yi=[i[1] for i in data]\n",
    "xiyi=[i[0]*i[1] for i in data]\n",
    "xi2=[i[0]**2 for i in data]\n",
    "Sxy=sum(xiyi)-sum(xi)*sum(yi)/n\n",
    "Sxx=sum(xi2)-(sum(xi)**2)/n\n",
    "B1=Sxy/Sxx\n",
    "B0=sum(yi)/n-sum(xi)/n*B1\n",
    "print(\"Dữ liệu:\",data)\n",
    "print(\"Đường hồi quy tuyến tính: y={}x+{}\".format(round(B1,6),round(B0,6)))"
   ]
  },
  {
   "cell_type": "markdown",
   "id": "f426522b",
   "metadata": {},
   "source": [
    "# Set"
   ]
  },
  {
   "cell_type": "code",
   "execution_count": 1,
   "id": "9c11401f",
   "metadata": {},
   "outputs": [
    {
     "name": "stdout",
     "output_type": "stream",
     "text": [
      "Nhập giới hạn:19\n",
      "{2, 3, 4, 5, 6, 7, 8, 9, 10, 11, 12, 13, 14, 15, 16, 17, 18}\n",
      "2\n",
      "3\n",
      "5\n",
      "7\n",
      "11\n",
      "13\n",
      "Tập các số nguyên tố:\n",
      "{2, 3, 5, 7, 11, 13, 17}\n"
     ]
    }
   ],
   "source": [
    "# Bài 5.1\n",
    "# tạo 1 set , p=2 xóa bội của p k xóa p, p=p+1\n",
    "lim=float(input(\"Nhập giới hạn:\"))\n",
    "lim= int(lim) if lim%1==0 else int(lim+(1-lim%1))\n",
    "set1=set(i for i in range(2,lim))\n",
    "print(set1)\n",
    "p=2\n",
    "while p in set1:\n",
    "    set1=set(set1)\n",
    "    set2=set()\n",
    "    for i in set1:\n",
    "        if i==p:\n",
    "            pass\n",
    "        elif i%p==0:\n",
    "            set2.add(i)\n",
    "    set1=set1.difference(set2)\n",
    "    set1=list(set1)\n",
    "    print(p)\n",
    "    if set1.index(p)==len(set1)-1:\n",
    "        break\n",
    "    else:\n",
    "        p=set1[set1.index(p)+1]\n",
    "print(\"Tập các số nguyên tố:\",set(sorted(set1)),sep=\"\\n\")"
   ]
  },
  {
   "cell_type": "code",
   "execution_count": 1,
   "id": "d78ad5a0",
   "metadata": {},
   "outputs": [
    {
     "name": "stdout",
     "output_type": "stream",
     "text": [
      "Nhập giới hạn:1000\n",
      "{2, 3, 4, 5, 6, 7, 8, 9, 10, 11, 12, 13, 14, 15, 16, 17, 18, 19, 20, 21, 22, 23, 24, 25, 26, 27, 28, 29, 30, 31, 32, 33, 34, 35, 36, 37, 38, 39, 40, 41, 42, 43, 44, 45, 46, 47, 48, 49, 50, 51, 52, 53, 54, 55, 56, 57, 58, 59, 60, 61, 62, 63, 64, 65, 66, 67, 68, 69, 70, 71, 72, 73, 74, 75, 76, 77, 78, 79, 80, 81, 82, 83, 84, 85, 86, 87, 88, 89, 90, 91, 92, 93, 94, 95, 96, 97, 98, 99, 100, 101, 102, 103, 104, 105, 106, 107, 108, 109, 110, 111, 112, 113, 114, 115, 116, 117, 118, 119, 120, 121, 122, 123, 124, 125, 126, 127, 128, 129, 130, 131, 132, 133, 134, 135, 136, 137, 138, 139, 140, 141, 142, 143, 144, 145, 146, 147, 148, 149, 150, 151, 152, 153, 154, 155, 156, 157, 158, 159, 160, 161, 162, 163, 164, 165, 166, 167, 168, 169, 170, 171, 172, 173, 174, 175, 176, 177, 178, 179, 180, 181, 182, 183, 184, 185, 186, 187, 188, 189, 190, 191, 192, 193, 194, 195, 196, 197, 198, 199, 200, 201, 202, 203, 204, 205, 206, 207, 208, 209, 210, 211, 212, 213, 214, 215, 216, 217, 218, 219, 220, 221, 222, 223, 224, 225, 226, 227, 228, 229, 230, 231, 232, 233, 234, 235, 236, 237, 238, 239, 240, 241, 242, 243, 244, 245, 246, 247, 248, 249, 250, 251, 252, 253, 254, 255, 256, 257, 258, 259, 260, 261, 262, 263, 264, 265, 266, 267, 268, 269, 270, 271, 272, 273, 274, 275, 276, 277, 278, 279, 280, 281, 282, 283, 284, 285, 286, 287, 288, 289, 290, 291, 292, 293, 294, 295, 296, 297, 298, 299, 300, 301, 302, 303, 304, 305, 306, 307, 308, 309, 310, 311, 312, 313, 314, 315, 316, 317, 318, 319, 320, 321, 322, 323, 324, 325, 326, 327, 328, 329, 330, 331, 332, 333, 334, 335, 336, 337, 338, 339, 340, 341, 342, 343, 344, 345, 346, 347, 348, 349, 350, 351, 352, 353, 354, 355, 356, 357, 358, 359, 360, 361, 362, 363, 364, 365, 366, 367, 368, 369, 370, 371, 372, 373, 374, 375, 376, 377, 378, 379, 380, 381, 382, 383, 384, 385, 386, 387, 388, 389, 390, 391, 392, 393, 394, 395, 396, 397, 398, 399, 400, 401, 402, 403, 404, 405, 406, 407, 408, 409, 410, 411, 412, 413, 414, 415, 416, 417, 418, 419, 420, 421, 422, 423, 424, 425, 426, 427, 428, 429, 430, 431, 432, 433, 434, 435, 436, 437, 438, 439, 440, 441, 442, 443, 444, 445, 446, 447, 448, 449, 450, 451, 452, 453, 454, 455, 456, 457, 458, 459, 460, 461, 462, 463, 464, 465, 466, 467, 468, 469, 470, 471, 472, 473, 474, 475, 476, 477, 478, 479, 480, 481, 482, 483, 484, 485, 486, 487, 488, 489, 490, 491, 492, 493, 494, 495, 496, 497, 498, 499, 500, 501, 502, 503, 504, 505, 506, 507, 508, 509, 510, 511, 512, 513, 514, 515, 516, 517, 518, 519, 520, 521, 522, 523, 524, 525, 526, 527, 528, 529, 530, 531, 532, 533, 534, 535, 536, 537, 538, 539, 540, 541, 542, 543, 544, 545, 546, 547, 548, 549, 550, 551, 552, 553, 554, 555, 556, 557, 558, 559, 560, 561, 562, 563, 564, 565, 566, 567, 568, 569, 570, 571, 572, 573, 574, 575, 576, 577, 578, 579, 580, 581, 582, 583, 584, 585, 586, 587, 588, 589, 590, 591, 592, 593, 594, 595, 596, 597, 598, 599, 600, 601, 602, 603, 604, 605, 606, 607, 608, 609, 610, 611, 612, 613, 614, 615, 616, 617, 618, 619, 620, 621, 622, 623, 624, 625, 626, 627, 628, 629, 630, 631, 632, 633, 634, 635, 636, 637, 638, 639, 640, 641, 642, 643, 644, 645, 646, 647, 648, 649, 650, 651, 652, 653, 654, 655, 656, 657, 658, 659, 660, 661, 662, 663, 664, 665, 666, 667, 668, 669, 670, 671, 672, 673, 674, 675, 676, 677, 678, 679, 680, 681, 682, 683, 684, 685, 686, 687, 688, 689, 690, 691, 692, 693, 694, 695, 696, 697, 698, 699, 700, 701, 702, 703, 704, 705, 706, 707, 708, 709, 710, 711, 712, 713, 714, 715, 716, 717, 718, 719, 720, 721, 722, 723, 724, 725, 726, 727, 728, 729, 730, 731, 732, 733, 734, 735, 736, 737, 738, 739, 740, 741, 742, 743, 744, 745, 746, 747, 748, 749, 750, 751, 752, 753, 754, 755, 756, 757, 758, 759, 760, 761, 762, 763, 764, 765, 766, 767, 768, 769, 770, 771, 772, 773, 774, 775, 776, 777, 778, 779, 780, 781, 782, 783, 784, 785, 786, 787, 788, 789, 790, 791, 792, 793, 794, 795, 796, 797, 798, 799, 800, 801, 802, 803, 804, 805, 806, 807, 808, 809, 810, 811, 812, 813, 814, 815, 816, 817, 818, 819, 820, 821, 822, 823, 824, 825, 826, 827, 828, 829, 830, 831, 832, 833, 834, 835, 836, 837, 838, 839, 840, 841, 842, 843, 844, 845, 846, 847, 848, 849, 850, 851, 852, 853, 854, 855, 856, 857, 858, 859, 860, 861, 862, 863, 864, 865, 866, 867, 868, 869, 870, 871, 872, 873, 874, 875, 876, 877, 878, 879, 880, 881, 882, 883, 884, 885, 886, 887, 888, 889, 890, 891, 892, 893, 894, 895, 896, 897, 898, 899, 900, 901, 902, 903, 904, 905, 906, 907, 908, 909, 910, 911, 912, 913, 914, 915, 916, 917, 918, 919, 920, 921, 922, 923, 924, 925, 926, 927, 928, 929, 930, 931, 932, 933, 934, 935, 936, 937, 938, 939, 940, 941, 942, 943, 944, 945, 946, 947, 948, 949, 950, 951, 952, 953, 954, 955, 956, 957, 958, 959, 960, 961, 962, 963, 964, 965, 966, 967, 968, 969, 970, 971, 972, 973, 974, 975, 976, 977, 978, 979, 980, 981, 982, 983, 984, 985, 986, 987, 988, 989, 990, 991, 992, 993, 994, 995, 996, 997, 998, 999, 1000}\n",
      "2\n",
      "3\n",
      "5\n",
      "7\n",
      "11\n",
      "13\n",
      "17\n",
      "19\n",
      "23\n",
      "29\n",
      "31\n",
      "37\n",
      "41\n",
      "43\n",
      "47\n",
      "53\n",
      "59\n",
      "61\n",
      "67\n",
      "71\n",
      "73\n",
      "79\n",
      "83\n",
      "89\n",
      "97\n",
      "101\n",
      "103\n",
      "107\n",
      "109\n",
      "113\n",
      "127\n",
      "131\n",
      "137\n",
      "139\n",
      "149\n",
      "151\n",
      "157\n",
      "163\n",
      "167\n",
      "173\n",
      "179\n",
      "181\n",
      "191\n",
      "193\n",
      "197\n",
      "199\n",
      "211\n",
      "223\n",
      "227\n",
      "229\n",
      "233\n",
      "239\n",
      "241\n",
      "251\n",
      "257\n",
      "263\n",
      "269\n",
      "271\n",
      "277\n",
      "281\n",
      "283\n",
      "293\n",
      "307\n",
      "311\n",
      "313\n",
      "317\n",
      "331\n",
      "337\n",
      "347\n",
      "349\n",
      "353\n",
      "359\n",
      "367\n",
      "373\n",
      "379\n",
      "383\n",
      "389\n",
      "397\n",
      "401\n",
      "409\n",
      "419\n",
      "421\n",
      "431\n",
      "433\n",
      "439\n",
      "443\n",
      "449\n",
      "457\n",
      "461\n",
      "463\n",
      "467\n",
      "479\n",
      "487\n",
      "491\n",
      "499\n",
      "503\n",
      "509\n",
      "521\n",
      "523\n",
      "541\n",
      "547\n",
      "557\n",
      "563\n",
      "569\n",
      "571\n",
      "577\n",
      "587\n",
      "593\n",
      "599\n",
      "601\n",
      "607\n",
      "613\n",
      "617\n",
      "619\n",
      "631\n",
      "641\n",
      "643\n",
      "647\n",
      "653\n",
      "659\n",
      "661\n",
      "673\n",
      "677\n",
      "683\n",
      "691\n",
      "701\n",
      "709\n",
      "719\n",
      "727\n",
      "733\n",
      "739\n",
      "743\n",
      "751\n",
      "757\n",
      "761\n",
      "769\n",
      "773\n",
      "787\n",
      "797\n",
      "809\n",
      "811\n",
      "821\n",
      "823\n",
      "827\n",
      "829\n",
      "839\n",
      "853\n",
      "857\n",
      "859\n",
      "863\n",
      "877\n",
      "881\n",
      "883\n",
      "887\n",
      "907\n",
      "911\n",
      "919\n",
      "929\n",
      "937\n",
      "941\n",
      "947\n",
      "953\n",
      "967\n",
      "971\n",
      "977\n",
      "983\n",
      "991\n",
      "997\n",
      "Tập các số nguyên tố:\n",
      "[2, 3, 5, 7, 11, 13, 17, 19, 23, 29, 31, 37, 41, 43, 47, 53, 59, 61, 67, 71, 73, 79, 83, 89, 97, 101, 103, 107, 109, 113, 127, 131, 137, 139, 149, 151, 157, 163, 167, 173, 179, 181, 191, 193, 197, 199, 211, 223, 227, 229, 233, 239, 241, 251, 257, 263, 269, 271, 277, 281, 283, 293, 307, 311, 313, 317, 331, 337, 347, 349, 353, 359, 367, 373, 379, 383, 389, 397, 401, 409, 419, 421, 431, 433, 439, 443, 449, 457, 461, 463, 467, 479, 487, 491, 499, 503, 509, 521, 523, 541, 547, 557, 563, 569, 571, 577, 587, 593, 599, 601, 607, 613, 617, 619, 631, 641, 643, 647, 653, 659, 661, 673, 677, 683, 691, 701, 709, 719, 727, 733, 739, 743, 751, 757, 761, 769, 773, 787, 797, 809, 811, 821, 823, 827, 829, 839, 853, 857, 859, 863, 877, 881, 883, 887, 907, 911, 919, 929, 937, 941, 947, 953, 967, 971, 977, 983, 991, 997]\n"
     ]
    }
   ],
   "source": [
    "# Bài 5.1\n",
    "# Cách khác không dùng list\n",
    "lim=float(input(\"Nhập giới hạn:\"))\n",
    "lim= int(lim)\n",
    "set1=set(i for i in range(2,lim+1))\n",
    "print(set1)\n",
    "p=2\n",
    "while p in set1:\n",
    "    set2=set()\n",
    "    for i in set1:\n",
    "        if i%p==0 and i>p:\n",
    "            set2.add(i)\n",
    "    set1= set1- set2\n",
    "    print(p)\n",
    "    if p==max(set1):\n",
    "        break\n",
    "    for i in range(p,lim+1):\n",
    "        if i in set1 and i>p:\n",
    "            p=i\n",
    "            break\n",
    "print(\"Tập các số nguyên tố:\",sorted(set1),sep=\"\\n\")"
   ]
  },
  {
   "cell_type": "code",
   "execution_count": 6,
   "id": "d8b1bdef",
   "metadata": {},
   "outputs": [
    {
     "name": "stdout",
     "output_type": "stream",
     "text": [
      "4\n",
      "4\n"
     ]
    }
   ],
   "source": [
    "se1t={1,2,3,4,5}\n",
    "p=3\n",
    "for i in se1t:\n",
    "    if i>p:\n",
    "        print(i)\n",
    "        p=i\n",
    "        break\n",
    "print(p)"
   ]
  },
  {
   "cell_type": "markdown",
   "id": "8b4b9a8a",
   "metadata": {},
   "source": [
    "# Dictionary"
   ]
  },
  {
   "cell_type": "code",
   "execution_count": 3,
   "id": "49aba840",
   "metadata": {},
   "outputs": [
    {
     "name": "stdout",
     "output_type": "stream",
     "text": [
      "{'Nam': ['Hòa', 'Nguyễn', 'Chiến'], 'Nữ': {'a', 'b', 'An'}}\n"
     ]
    }
   ],
   "source": [
    "diction={\"Nam\":[\"Hòa\",\"Nguyễn\"],\"Nữ\":{\"a\",\"b\"}}\n",
    "\n",
    "# Thêm giá trị vào value list,set\n",
    "diction[\"Nam\"].append(\"Chiến\")\n",
    "diction[\"Nữ\"].add(\"An\")\n",
    "print(diction)"
   ]
  },
  {
   "cell_type": "code",
   "execution_count": null,
   "id": "c974716d",
   "metadata": {},
   "outputs": [],
   "source": []
  },
  {
   "cell_type": "code",
   "execution_count": 130,
   "id": "1767d6bd",
   "metadata": {},
   "outputs": [
    {
     "name": "stdout",
     "output_type": "stream",
     "text": [
      "     Total       Simulated\n",
      "                   Percent\n",
      "         2            1.80\n",
      "         3            5.90\n",
      "         4            7.40\n",
      "         5           12.00\n",
      "         6           14.70\n",
      "         7           15.40\n",
      "         8           13.30\n",
      "         9           11.10\n",
      "        10           10.20\n",
      "        11            6.60\n",
      "        12            1.60\n"
     ]
    }
   ],
   "source": [
    "#Bài 6.1\n",
    "from random import randint\n",
    "lst=[]\n",
    "for i in range(1000):\n",
    "    a=randint(1,6)+ randint(1,6)\n",
    "    lst.append(a)\n",
    "diction={}\n",
    "for i in set(lst):\n",
    "    diction[i]=round(lst.count(i)/1000*100,2)\n",
    "print(\"Total\".rjust(10),\"Simulated\\n\".rjust(16),\"Percent\".rjust(25))\n",
    "for x,y in diction.items():\n",
    "    print(str(x).rjust(10),(str(y)+\"0\").rjust(15))"
   ]
  },
  {
   "cell_type": "code",
   "execution_count": 3,
   "id": "8f561a7b",
   "metadata": {},
   "outputs": [
    {
     "name": "stdout",
     "output_type": "stream",
     "text": [
      "Nhập Tên,Điểm :Hòa,10\n",
      "Nhập Tên,Điểm :Dũng,0\n",
      "Nhập Tên,Điểm :Thành,1\n",
      "Nhập Tên,Điểm :Hải,5\n",
      "Nhập Tên,Điểm :Huy Lê, 9.5\n",
      "Nhập Tên,Điểm :Vân Anh,8.2\n",
      "Nhập Tên,Điểm :Hiếu,6\n",
      "Nhập Tên,Điểm :Mười,3.14\n",
      "Nhập Tên,Điểm :\n",
      "Điểm       Sinh viên       \n",
      "A          Hòa,Huy Lê     \n",
      "B          Vân Anh        \n",
      "C          Hiếu           \n",
      "D          Hải            \n",
      "F          Dũng,Thành,Mười\n"
     ]
    }
   ],
   "source": [
    "#Bài 6.2\n",
    "data=[]\n",
    "while True:\n",
    "    a=input(\"Nhập Tên,Điểm :\")\n",
    "    if a==\"\":\n",
    "        break\n",
    "    elif float(a[a.find(\",\")+1:len(a)])>10 or float(a[a.find(\",\")+1:len(a)])<0:\n",
    "        print(\"Điểm không hợp lệ, vui lòng nhập lại\")\n",
    "    else:\n",
    "        a = tuple(x for x in a.split(\",\"))\n",
    "        data.append(a)\n",
    "A=[i[0] for i in data if float(i[1])>=8.5]\n",
    "B=[i[0] for i in data if 8.5>float(i[1])>=7]\n",
    "C=[i[0] for i in data if 7>float(i[1])>=5.5]\n",
    "D=[i[0] for i in data if 5.5>float(i[1])>=4]\n",
    "F=[i[0] for i in data if float(i[1])<4]\n",
    "Data=[A,B,C,D,F]\n",
    "Alpha=[\"A\",\"B\",\"C\",\"D\",\"F\"]\n",
    "diction={}\n",
    "for i in range(len(Data)):\n",
    "    diction[Alpha[i]]=\",\".join(Data[i])\n",
    "print(\"Điểm\".ljust(10),\"Sinh viên\".ljust(16))\n",
    "for x,y in diction.items():\n",
    "    print(x.ljust(10),y.ljust(15))"
   ]
  },
  {
   "cell_type": "code",
   "execution_count": 9,
   "id": "94e99100",
   "metadata": {},
   "outputs": [
    {
     "name": "stdout",
     "output_type": "stream",
     "text": [
      "{'a': 11, 'b': 2, 'c': 1, 'd': 6, 'e': 12, 'f': 3, 'g': 3, 'h': 9, 'i': 14, 'j': 1, 'k': 3, 'l': 6, 'm': 1, 'n': 9, 'o': 8, 'p': 1, 'r': 7, 's': 11, 't': 12, 'u': 6, 'v': 1, 'w': 5, 'y': 2}\n",
      "   Ký tự chữ      Số lần xuất hiện  \n",
      "       a                 11         \n",
      "       b                 2          \n",
      "       c                 1          \n",
      "       d                 6          \n",
      "       e                 12         \n",
      "       f                 3          \n",
      "       g                 3          \n",
      "       h                 9          \n",
      "       i                 14         \n",
      "       j                 1          \n",
      "       k                 3          \n",
      "       l                 6          \n",
      "       m                 1          \n",
      "       n                 9          \n",
      "       o                 8          \n",
      "       p                 1          \n",
      "       r                 7          \n",
      "       s                 11         \n",
      "       t                 12         \n",
      "       u                 6          \n",
      "       v                 1          \n",
      "       w                 5          \n",
      "       y                 2          \n"
     ]
    }
   ],
   "source": [
    "#Bài 6.3\n",
    "st=\"\"\"\n",
    "But soft what light through yonder window breaks\n",
    "It is the east and Juliet is the sun\n",
    "Arise fair sun and kill the envious moon\n",
    "Who is already sick and pale with grief\n",
    "\"\"\"\n",
    "diction={}\n",
    "st=st.lower()\n",
    "lst=sorted(set(st))\n",
    "del lst[0:2]       #Xóa ký tự \"\\n\" và \" \" (space)\n",
    "for i in lst:\n",
    "    diction[i]=st.count(i)\n",
    "print(diction)\n",
    "print(\"Ký tự chữ\".center(15),\"Số lần xuất hiện\".center(20))\n",
    "for x,y in diction.items():\n",
    "    print(x.center(15),str(y).center(20))\n",
    "    "
   ]
  },
  {
   "cell_type": "code",
   "execution_count": 15,
   "id": "325c61b9",
   "metadata": {},
   "outputs": [
    {
     "name": "stdout",
     "output_type": "stream",
     "text": [
      "1\n"
     ]
    }
   ],
   "source": [
    "d={'A': 1, 'B': 1, 'I': 1, 'J': 1, 'W': 1, 'a': 10, 'b': 1, 'c': 1, 'd': 6, 'e': 12, 'f': 3, 'g': 3, 'h': 9, 'i': 13, 'k': 3, 'l': 6, 'm': 1, 'n': 9, 'o': 8, 'p': 1, 'r': 7, 's': 11, 't': 12, 'u': 6, 'v': 1, 'w': 4, 'y': 2}\n",
    "print(d[\"A\"])"
   ]
  }
 ],
 "metadata": {
  "kernelspec": {
   "display_name": "Python 3",
   "language": "python",
   "name": "python3"
  },
  "language_info": {
   "codemirror_mode": {
    "name": "ipython",
    "version": 3
   },
   "file_extension": ".py",
   "mimetype": "text/x-python",
   "name": "python",
   "nbconvert_exporter": "python",
   "pygments_lexer": "ipython3",
   "version": "3.8.8"
  }
 },
 "nbformat": 4,
 "nbformat_minor": 5
}
