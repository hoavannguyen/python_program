{
 "cells": [
  {
   "cell_type": "markdown",
   "id": "4b317a14",
   "metadata": {},
   "source": [
    "***Hàm***"
   ]
  },
  {
   "cell_type": "code",
   "execution_count": 32,
   "id": "64345b88",
   "metadata": {},
   "outputs": [],
   "source": [
    "def common(x,y):\n",
    "    x=set(x)\n",
    "    y=set(y)\n",
    "    cm= x.intersection(y)\n",
    "    return cm"
   ]
  },
  {
   "cell_type": "code",
   "execution_count": 33,
   "id": "8d8a36e5",
   "metadata": {},
   "outputs": [
    {
     "data": {
      "text/plain": [
       "{'b', 'c'}"
      ]
     },
     "execution_count": 33,
     "metadata": {},
     "output_type": "execute_result"
    }
   ],
   "source": [
    "common(\"abcc\",\"cbsd\")"
   ]
  },
  {
   "cell_type": "code",
   "execution_count": 34,
   "id": "2783ee7f",
   "metadata": {},
   "outputs": [],
   "source": [
    "#Hàm trả về nhiều giá trị\n",
    "from math import sqrt\n",
    "def summary(data):\n",
    "    n=len(data)\n",
    "    mean=sum(data)/n\n",
    "    sd= [i**2 for i in data]\n",
    "    sd= n/(n-1)*(sum(sd)/n-mean**2) \n",
    "    sd= sqrt(sd)\n",
    "    return (mean,sd)"
   ]
  },
  {
   "cell_type": "code",
   "execution_count": 35,
   "id": "2a80382f",
   "metadata": {},
   "outputs": [
    {
     "data": {
      "text/plain": [
       "(5.0, 2.738612787525831)"
      ]
     },
     "execution_count": 35,
     "metadata": {},
     "output_type": "execute_result"
    }
   ],
   "source": [
    "data= [1,2,3,4,5,6,7,8,9]\n",
    "summary(data)"
   ]
  },
  {
   "cell_type": "code",
   "execution_count": 15,
   "id": "91c49111",
   "metadata": {},
   "outputs": [],
   "source": [
    "#  Giá trị mặc định của biến\n",
    "def display(message, k=9):\n",
    "    print(message[:k])"
   ]
  },
  {
   "cell_type": "code",
   "execution_count": 36,
   "id": "01067fbc",
   "metadata": {},
   "outputs": [
    {
     "name": "stdout",
     "output_type": "stream",
     "text": [
      "Hòa nguyễ\n"
     ]
    }
   ],
   "source": [
    "display(\"Hòa nguyễn 55\")"
   ]
  },
  {
   "cell_type": "code",
   "execution_count": 37,
   "id": "2c812b4d",
   "metadata": {},
   "outputs": [
    {
     "name": "stdout",
     "output_type": "stream",
     "text": [
      "Hòa nguyễn 55\n"
     ]
    }
   ],
   "source": [
    "display(\"Hòa nguyễn 55\",15)"
   ]
  },
  {
   "cell_type": "code",
   "execution_count": 38,
   "id": "841ba111",
   "metadata": {},
   "outputs": [
    {
     "name": "stdout",
     "output_type": "stream",
     "text": [
      "(2, 3, 4, 5, 'HA', 'aa')\n"
     ]
    }
   ],
   "source": [
    "# Biến/tham số có độ dài thay đổi\n",
    "def print_tail(head,*tail):\n",
    "    print(tail)\n",
    "print_tail(1,2,3,4,5,\"HA\",\"aa\")"
   ]
  },
  {
   "cell_type": "code",
   "execution_count": 39,
   "id": "4cbb17b9",
   "metadata": {},
   "outputs": [
    {
     "data": {
      "text/plain": [
       "[('Thành', 0.2), ('Mười', 6), ('Huy', 9), ('Hòa', 10), ('Chí', 15)]"
      ]
     },
     "execution_count": 39,
     "metadata": {},
     "output_type": "execute_result"
    }
   ],
   "source": [
    "# lambda expression\n",
    "plus = lambda c,d : c+d\n",
    "plus(3,5)\n",
    "\n",
    "k=[\"Hòa\",\"Mười\",\"Thành\",\"Chí\",\"Huy\"]\n",
    "v=[10,6,0.2,15,9]\n",
    "dct={k[i]:v[i] for i in range(len(k))}\n",
    "\n",
    "lst= sorted(dct.items(), key = lambda x : x[1])\n",
    "lst"
   ]
  },
  {
   "cell_type": "code",
   "execution_count": 45,
   "id": "4ca56c7a",
   "metadata": {
    "scrolled": true
   },
   "outputs": [
    {
     "name": "stdout",
     "output_type": "stream",
     "text": [
      "{'Thành': 0.2, 'Mười': 6, 'Huy': 9, 'Hòa': 10, 'Chí': 15}\n"
     ]
    }
   ],
   "source": [
    "print(dict(lst))"
   ]
  },
  {
   "cell_type": "code",
   "execution_count": null,
   "id": "ae777e2a",
   "metadata": {},
   "outputs": [],
   "source": [
    "# Đệ quy dữ liệu có cấu trúc tùy ý\n",
    "def sumtree(L):\n",
    "    total= 0\n",
    "    for x in L:\n",
    "        if not isinstance(x,list):\n",
    "            total +=x\n",
    "        else:\n",
    "            total += sumtree(x)\n",
    "    return total\n",
    "num=[1,2,[3,[3,3,[4,6],5],5],8]\n",
    "sumtree(num)"
   ]
  },
  {
   "cell_type": "code",
   "execution_count": 1,
   "id": "16a6e7ff",
   "metadata": {},
   "outputs": [
    {
     "data": {
      "text/plain": [
       "720"
      ]
     },
     "execution_count": 1,
     "metadata": {},
     "output_type": "execute_result"
    }
   ],
   "source": [
    "# Bài 5.1\n",
    "def giaithua(n):\n",
    "    gt=1\n",
    "    for i in range(1,n+1):\n",
    "        gt *=i\n",
    "    return gt\n",
    "giaithua(6)"
   ]
  },
  {
   "cell_type": "code",
   "execution_count": 5,
   "id": "4c345522",
   "metadata": {},
   "outputs": [
    {
     "data": {
      "text/plain": [
       "'Phương trình 2  no phân biệt x1=2.0 x2=-1.0'"
      ]
     },
     "execution_count": 5,
     "metadata": {},
     "output_type": "execute_result"
    }
   ],
   "source": [
    "# Bài 5.2\n",
    "from math import sqrt\n",
    "def ptb2(a,b,c):\n",
    "    if a==0:\n",
    "        if b==0 and c==0:\n",
    "            return \"Vô số nghiệm.\"\n",
    "        elif b==0 and c!=0:\n",
    "            return \"Vô nghiệm.\"\n",
    "        else:\n",
    "            x=-c/b\n",
    "            return \"Nghiệm x={}\".format(x)\n",
    "    else:\n",
    "        delta=b**2-4*a*c\n",
    "        if delta <0:\n",
    "            return \"Vô nghiệm\"\n",
    "        elif delta==0:\n",
    "            x=-b/2*a\n",
    "            return \"Nghiệm kép x1=x2=\".format(x)\n",
    "        else:\n",
    "            x1=(-b-sqrt(delta))/(2*a)\n",
    "            x2=(-b+sqrt(delta))/(2*a)\n",
    "            return \"Phương trình 2  no phân biệt x1={} x2={}\".format(x1,x2)\n",
    "ptb2(-2,2,4)"
   ]
  },
  {
   "cell_type": "code",
   "execution_count": 20,
   "id": "6cac0080",
   "metadata": {},
   "outputs": [
    {
     "data": {
      "text/plain": [
       "{2: 2, 3: 3, 4: 6, 5: 20, 6: 13, 7: 20, 8: 10, 9: 9, 10: 6, 11: 8, 12: 3}"
      ]
     },
     "execution_count": 20,
     "metadata": {},
     "output_type": "execute_result"
    }
   ],
   "source": [
    "# Bài 5.3\n",
    "from random import randint\n",
    "def Dices(n):\n",
    "    lst=[]\n",
    "    for i in range(n):\n",
    "        a=randint(1,6)+ randint(1,6)\n",
    "        lst.append(a)\n",
    "    diction={}\n",
    "    for i in set(lst):\n",
    "        diction[i]=lst.count(i)\n",
    "    return diction\n",
    "Dices(100)"
   ]
  },
  {
   "cell_type": "code",
   "execution_count": 17,
   "id": "6cdca4d6",
   "metadata": {},
   "outputs": [
    {
     "data": {
      "text/plain": [
       "64.0"
      ]
     },
     "execution_count": 17,
     "metadata": {},
     "output_type": "execute_result"
    }
   ],
   "source": [
    "# Bài 5.4\n",
    "def fastexp(n,p):\n",
    "    if p==0:\n",
    "        return 1.0\n",
    "    else:\n",
    "        if p%2 ==0:\n",
    "            t=fastexp(n,p/2)\n",
    "            return t*t\n",
    "        else:\n",
    "            return n*fastexp(n,p-1)\n",
    "fastexp(4,3)            "
   ]
  },
  {
   "cell_type": "code",
   "execution_count": 22,
   "id": "5fdb071e",
   "metadata": {},
   "outputs": [
    {
     "data": {
      "text/plain": [
       "34"
      ]
     },
     "execution_count": 22,
     "metadata": {},
     "output_type": "execute_result"
    }
   ],
   "source": [
    "# Bài 5.5\n",
    "def fibo(n):\n",
    "    if n==0 :\n",
    "        return 0\n",
    "    elif n==1:\n",
    "        return 1\n",
    "    else:\n",
    "        return fibo(n-1)+ fibo(n-2)\n",
    "fibo(9)"
   ]
  }
 ],
 "metadata": {
  "kernelspec": {
   "display_name": "Python 3",
   "language": "python",
   "name": "python3"
  },
  "language_info": {
   "codemirror_mode": {
    "name": "ipython",
    "version": 3
   },
   "file_extension": ".py",
   "mimetype": "text/x-python",
   "name": "python",
   "nbconvert_exporter": "python",
   "pygments_lexer": "ipython3",
   "version": "3.8.8"
  }
 },
 "nbformat": 4,
 "nbformat_minor": 5
}
