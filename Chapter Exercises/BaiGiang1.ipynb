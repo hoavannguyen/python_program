{
 "cells": [
  {
   "cell_type": "code",
   "execution_count": 3,
   "id": "5a329ab0",
   "metadata": {},
   "outputs": [
    {
     "name": "stdout",
     "output_type": "stream",
     "text": [
      "Nhập tên123\n",
      "HÊ LÔ 123\n"
     ]
    }
   ],
   "source": [
    "x=input(\"Nhập tên:\")\n",
    "print(\"HÊ LÔ\",x)"
   ]
  },
  {
   "cell_type": "code",
   "execution_count": 4,
   "id": "b3b99d0c",
   "metadata": {},
   "outputs": [
    {
     "name": "stdout",
     "output_type": "stream",
     "text": [
      "Nhập tên:Hòa\n",
      "Nhập năm sinh:2001\n",
      "Quê ở đâu?Bắc Ninh\n",
      "Chúc Hòa năm năm nữa \n"
     ]
    }
   ],
   "source": [
    "a=input(\"Nhập tên:\")\n",
    "b=input(\"Nhập năm sinh:\")\n",
    "c=input(\"Quê ở đâu?\")\n",
    "d=input(\"Giới tính?\")\n",
    "print(\"Chúc {} năm năm nữa \".format(a))"
   ]
  },
  {
   "cell_type": "code",
   "execution_count": 9,
   "id": "3cea766b",
   "metadata": {},
   "outputs": [
    {
     "name": "stdout",
     "output_type": "stream",
     "text": [
      "Nhập 3.33\n"
     ]
    }
   ],
   "source": [
    "x=10/3\n",
    "print(\"Nhập %.2f\"% x)"
   ]
  },
  {
   "cell_type": "code",
   "execution_count": 10,
   "id": "b39fa2bd",
   "metadata": {},
   "outputs": [
    {
     "name": "stdout",
     "output_type": "stream",
     "text": [
      "Tổng của 30 và 6.511359 là: 36.511359105204896\n"
     ]
    }
   ],
   "source": [
    "#Random số nguyên và số thực\n",
    "from random import randint, uniform\n",
    "x=randint(3,99)\n",
    "y=uniform(0,9)\n",
    "print(\"Tổng của %d và %f là:\" % (x,y),x+y)"
   ]
  },
  {
   "cell_type": "code",
   "execution_count": 15,
   "id": "4a19636d",
   "metadata": {},
   "outputs": [
    {
     "name": "stdout",
     "output_type": "stream",
     "text": [
      "Nhập x=4.63\n",
      "Nhập y=5.842\n",
      "p1=16.31 \n",
      "p2=1.47 \n",
      "p3=-6.95\n",
      "Max= 16.314\n"
     ]
    }
   ],
   "source": [
    "from math import *\n",
    "x=float(input(\"Nhập x=\"))\n",
    "y=float(input(\"Nhập y=\"))\n",
    "p1=x+2*y\n",
    "p2=x**2-2*x*y+y**2\n",
    "p3=3*sin(x)+4*sin(x)**3\n",
    "#print(\"p1={} \\np2={} \\np3={}\\nMax={}\".format(p1,p2,p3,max(p1,p2,p3)))\n",
    "print(\"p1=%.2f \\np2=%.2f \\np3=%.2f\\nMax=\"% (p1,p2,p3),round(max(p1,p2,p3),3))"
   ]
  },
  {
   "cell_type": "code",
   "execution_count": 34,
   "id": "1ebc9d32",
   "metadata": {},
   "outputs": [
    {
     "name": "stdout",
     "output_type": "stream",
     "text": [
      "Họ tên:ádasd\n",
      "TVTG cọh iạđ gnơưrT nêiv hnis àl dsadá\n"
     ]
    }
   ],
   "source": [
    "s1=input(\"Họ tên:\")\n",
    "s2=\" là sinh viên \"\n",
    "s3=\"Trương đại học GTVT\"\n",
    "st=s1+s2+s3\n",
    "print(st[::-1])"
   ]
  },
  {
   "cell_type": "code",
   "execution_count": null,
   "id": "959c98a3",
   "metadata": {},
   "outputs": [],
   "source": []
  },
  {
   "cell_type": "code",
   "execution_count": null,
   "id": "7373bd23",
   "metadata": {},
   "outputs": [],
   "source": []
  },
  {
   "cell_type": "code",
   "execution_count": 21,
   "id": "64e54bc7",
   "metadata": {},
   "outputs": [
    {
     "name": "stdout",
     "output_type": "stream",
     "text": [
      "Nhập họ:hoa nguyen\n",
      "Nhập tên:aa\n",
      "hoa nguyen.aa.354@utc.edu.vn\n"
     ]
    }
   ],
   "source": [
    "s1=input(\"Nhập họ:\")\n",
    "s2=input(\"Nhập tên:\")\n",
    "print(\"{}.{}.{}@utc.edu.vn\".format(s1,s2,randint(0,1000)))"
   ]
  },
  {
   "cell_type": "code",
   "execution_count": null,
   "id": "ea710439",
   "metadata": {},
   "outputs": [],
   "source": []
  }
 ],
 "metadata": {
  "kernelspec": {
   "display_name": "Python 3",
   "language": "python",
   "name": "python3"
  },
  "language_info": {
   "codemirror_mode": {
    "name": "ipython",
    "version": 3
   },
   "file_extension": ".py",
   "mimetype": "text/x-python",
   "name": "python",
   "nbconvert_exporter": "python",
   "pygments_lexer": "ipython3",
   "version": "3.8.8"
  }
 },
 "nbformat": 4,
 "nbformat_minor": 5
}
