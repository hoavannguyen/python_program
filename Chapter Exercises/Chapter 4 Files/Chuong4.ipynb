{
 "cells": [
  {
   "cell_type": "code",
   "execution_count": null,
   "id": "e8ce7011",
   "metadata": {},
   "outputs": [],
   "source": []
  },
  {
   "cell_type": "code",
   "execution_count": 40,
   "id": "e8278d8b",
   "metadata": {},
   "outputs": [
    {
     "name": "stdout",
     "output_type": "stream",
     "text": [
      "From: stephen.marquard@uct.ac.za\n",
      "From: louis@media.berkeley.edu\n",
      "From: zqian@umich.edu\n",
      "From: rjlowe@iupui.edu\n",
      "From: zqian@umich.edu\n",
      "From: rjlowe@iupui.edu\n",
      "From: cwen@iupui.edu\n",
      "From: cwen@iupui.edu\n",
      "From: gsilver@umich.edu\n",
      "From: gsilver@umich.edu\n",
      "From: zqian@umich.edu\n",
      "From: gsilver@umich.edu\n",
      "From: wagnermr@iupui.edu\n",
      "From: zqian@umich.edu\n",
      "From: antranig@caret.cam.ac.uk\n",
      "From: gopal.ramasammycook@gmail.com\n",
      "From: david.horwitz@uct.ac.za\n",
      "From: david.horwitz@uct.ac.za\n",
      "From: david.horwitz@uct.ac.za\n",
      "From: david.horwitz@uct.ac.za\n",
      "From: stephen.marquard@uct.ac.za\n",
      "From: louis@media.berkeley.edu\n",
      "From: louis@media.berkeley.edu\n",
      "From: ray@media.berkeley.edu\n",
      "From: cwen@iupui.edu\n",
      "From: cwen@iupui.edu\n",
      "From: cwen@iupui.edu\n"
     ]
    }
   ],
   "source": [
    "#Bài 4.1\n",
    "try:\n",
    "    f= open('mailbox.txt')\n",
    "    for line in f:\n",
    "        if line.startswith(\"From:\"):\n",
    "            line=line.rstrip()\n",
    "            print(line)\n",
    "except:\n",
    "    print(\"Không thể mở file mailbox.txt \")"
   ]
  },
  {
   "cell_type": "code",
   "execution_count": 4,
   "id": "1fd7d085",
   "metadata": {},
   "outputs": [
    {
     "name": "stdout",
     "output_type": "stream",
     "text": [
      "['Ava', 'Mia', 'Zoe', 'Eva']\n",
      "['Elizabeth', 'Charlotte', 'Gabriella', 'Katherine', 'Mackenzie', 'Alexandra', 'Annabelle']\n"
     ]
    }
   ],
   "source": [
    "# Bài 4.2\n",
    "f=open('2012_GirlsNames.txt')\n",
    "names= f.read().split(\"\\n\")\n",
    "names= [i for i in names if i!=\"\"]\n",
    "names= [i.split(\" \") for i in names]\n",
    "min_len =max_len= names[0][0]\n",
    "for i in range(len(names)):\n",
    "    if len(names[i][0]) < len(min_len):\n",
    "        min_len=names[i][0]\n",
    "    elif len(names[i][0]) > len(max_len):\n",
    "        max_len=names[i][0]\n",
    "        \n",
    "min_names=[i[0] for i in names if len(i[0])==len(min_len)]       \n",
    "max_names=[i[0] for i in names if len(i[0])==len(max_len)]        \n",
    "print(min_names)\n",
    "print(max_names)"
   ]
  },
  {
   "cell_type": "code",
   "execution_count": 13,
   "id": "0ce18e1c",
   "metadata": {},
   "outputs": [
    {
     "name": "stdout",
     "output_type": "stream",
     "text": [
      "{'H': 'Hydrogen', 'He': 'Helium', 'Li': 'Lithium', 'Be': 'Beryllium', 'B': 'Boron', 'C': 'Carbon', 'N': 'Nitrogen', 'O': 'Oxygen', 'F': 'Fluorine', 'Ne': 'Neon', 'Na': 'Sodium', 'Mg': 'Magnesium', 'Al': 'Aluminium', 'Si': 'Silicon', 'P': 'Phosphorus', 'S': 'Sulfur', 'Cl': 'Chlorine', 'Ar': 'Argon', 'K': 'Potassium', 'Ca': 'Calcium', 'Sc': 'Scandium', 'Ti': 'Titanium', 'V': 'Vanadium', 'Cr': 'Chromium', 'Mn': 'Manganese', 'Fe': 'Iron', 'Co': 'Cobalt', 'Ni': 'Nickel', 'Cu': 'Copper', 'Zn': 'Zinc', 'Ga': 'Gallium', 'Ge': 'Germanium', 'As': 'Arsenic', 'Se': 'Selenium', 'Br': 'Bromine', 'Kr': 'Krypton', 'Rb': 'Rubidium', 'Sr': 'Strontium', 'Y': 'Yttrium', 'Zr': 'Zirconium', 'Nb': 'Niobium', 'Mo': 'Molybdenum', 'Tc': 'Technetium', 'Ru': 'Ruthenium', 'Rh': 'Rhodium', 'Pd': 'Palladium', 'Ag': 'Silver', 'Cd': 'Cadmium', 'In': 'Indium', 'Sn': 'Tin', 'Sb': 'Antimony', 'Te': 'Tellurium', 'I': 'Iodine', 'Xe': 'Xenon', 'Cs': 'Caesium', 'Ba': 'Barium', 'La': 'Lanthanum', 'Ce': 'Cerium', 'Pr': 'Praseodymium', 'Nd': 'Neodymium', 'Pm': 'Promethium', 'Sm': 'Samarium', 'Eu': 'Europium', 'Gd': 'Gadolinium', 'Tb': 'Terbium', 'Dy': 'Dysprosium', 'Ho': 'Holmium', 'Er': 'Erbium', 'Tm': 'Thulium', 'Yb': 'Ytterbium', 'Lu': 'Lutetium', 'Hf': 'Hafnium', 'Ta': 'Tantalum', 'W': 'Tungsten', 'Re': 'Rhenium', 'Os': 'Osmium', 'Ir': 'Iridium', 'Pt': 'Platinum', 'Au': 'Gold', 'Hg': 'Mercury', 'Tl': 'Thallium', 'Pb': 'Lead', 'Bi': 'Bismuth', 'Po': 'Polonium', 'At': 'Astatine', 'Rn': 'Radon', 'Fr': 'Francium', 'Ra': 'Radium', 'Ac': 'Actinium', 'Th': 'Thorium', 'Pa': 'Protactinium', 'U': 'Uranium', 'Np': 'Neptunium', 'Pu': 'Plutonium', 'Am': 'Americium', 'Cm': 'Curium', 'Bk': 'Berkelium', 'Cf': 'Californium', 'Es': 'Einsteinium', 'Fm': 'Fermium', 'Md': 'Mendelevium', 'No': 'Nobelium', 'Lr': 'Lawrencium', 'Rf': 'Rutherfordium', 'Db': 'Dubnium', 'Sg': 'Seaborgium', 'Bh': 'Bohrium', 'Hs': 'Hassium', 'Mt': 'Meitnerium', 'Ds': 'Darmstadtium', 'Rg': 'Roentgenium', 'Cn': 'Copernicium', 'Uut': 'Ununtrium', 'Fl': 'Flerovium', 'Uup': 'Ununpentium', 'Lv': 'Livermorium', 'Uus': 'Ununseptium', 'Uuo': 'Ununoctium'}\n"
     ]
    }
   ],
   "source": [
    "#Bài 4.3\n",
    "file = open('elements.txt')\n",
    "elements= file.read().split(\"\\n\")\n",
    "elements=[i.split(\",\") for i in elements]\n",
    "dict_elements=dict()\n",
    "for i in range(len(elements)):\n",
    "    dict_elements[elements[i][1]]=elements[i][2]\n",
    "print(dict_elements)"
   ]
  },
  {
   "cell_type": "code",
   "execution_count": 52,
   "id": "190b0e7d",
   "metadata": {},
   "outputs": [
    {
     "name": "stdout",
     "output_type": "stream",
     "text": [
      "Nhập kí tự hóa học:Uus\n",
      "Ununseptium\n"
     ]
    }
   ],
   "source": [
    "X = input(\"Nhập kí tự hóa học:\")\n",
    "print(dict_elements[X])"
   ]
  },
  {
   "cell_type": "code",
   "execution_count": 25,
   "id": "1b6a795f",
   "metadata": {},
   "outputs": [
    {
     "name": "stdout",
     "output_type": "stream",
     "text": [
      "Nhập năm muốn xem giá vàng:1952\n",
      "1952-01,34.490\n",
      "1952-02,34.490\n",
      "1952-03,34.680\n",
      "1952-04,34.820\n",
      "1952-05,34.730\n",
      "1952-06,34.530\n",
      "1952-07,34.570\n",
      "1952-08,34.580\n",
      "1952-09,34.510\n",
      "1952-10,34.630\n",
      "1952-11,34.720\n",
      "1952-12,34.790\n",
      "Giá vàng trung bình: 34.62833333333334\n"
     ]
    }
   ],
   "source": [
    "#Bài 4.4\n",
    "myfile=open(\"monthly_csv.csv\")\n",
    "year=input(\"Nhập năm muốn xem giá vàng:\")\n",
    "avg= []\n",
    "for line in myfile:\n",
    "    line=line.rstrip()\n",
    "    if line.startswith(year):\n",
    "        print(line)\n",
    "        x=line.split(\",\")\n",
    "        avg.append(float(x[1]))\n",
    "        \n",
    "print(\"Giá vàng trung bình:\",sum(avg)/len(avg))\n"
   ]
  },
  {
   "cell_type": "code",
   "execution_count": 26,
   "id": "4874b792",
   "metadata": {},
   "outputs": [],
   "source": [
    "#Ghi file\n",
    "f = open(\"output.txt\",'w',encoding=\"utf-8\")\n",
    "line1=\"Điều anh \"\n",
    "line2='luon giu kin trong tim'\n",
    "dct={\"Giới tính\":[\"Nam\",\"Nữ\"],\"Quê\":[\"Bắc Ninh\",\"Yên Phong\"]}\n",
    "f.write(line1)\n",
    "f.write(line2+\"\\n\")\n",
    "f.write(str(dct))\n",
    "f.close()"
   ]
  },
  {
   "cell_type": "markdown",
   "id": "bcc7edea",
   "metadata": {},
   "source": [
    "***Pickle***"
   ]
  },
  {
   "cell_type": "code",
   "execution_count": 45,
   "id": "6e685200",
   "metadata": {},
   "outputs": [
    {
     "ename": "TypeError",
     "evalue": "write() argument must be str, not bytes",
     "output_type": "error",
     "traceback": [
      "\u001b[1;31m---------------------------------------------------------------------------\u001b[0m",
      "\u001b[1;31mTypeError\u001b[0m                                 Traceback (most recent call last)",
      "\u001b[1;32m<ipython-input-45-6621cb44c99a>\u001b[0m in \u001b[0;36m<module>\u001b[1;34m\u001b[0m\n\u001b[0;32m      2\u001b[0m \u001b[0mDct\u001b[0m\u001b[1;33m=\u001b[0m \u001b[1;33m{\u001b[0m\u001b[1;34m'a'\u001b[0m\u001b[1;33m:\u001b[0m\u001b[1;36m1\u001b[0m\u001b[1;33m,\u001b[0m\u001b[1;34m'b'\u001b[0m\u001b[1;33m:\u001b[0m\u001b[1;36m2\u001b[0m\u001b[1;33m}\u001b[0m\u001b[1;33m\u001b[0m\u001b[1;33m\u001b[0m\u001b[0m\n\u001b[0;32m      3\u001b[0m \u001b[0mfile\u001b[0m \u001b[1;33m=\u001b[0m \u001b[0mopen\u001b[0m\u001b[1;33m(\u001b[0m\u001b[1;34m\"datapickle.pkl\"\u001b[0m\u001b[1;33m,\u001b[0m\u001b[1;34m'w'\u001b[0m\u001b[1;33m,\u001b[0m \u001b[0mencoding\u001b[0m\u001b[1;33m=\u001b[0m\u001b[1;34m\"utf-8\"\u001b[0m\u001b[1;33m)\u001b[0m\u001b[1;33m\u001b[0m\u001b[1;33m\u001b[0m\u001b[0m\n\u001b[1;32m----> 4\u001b[1;33m \u001b[0mpickle\u001b[0m\u001b[1;33m.\u001b[0m\u001b[0mdump\u001b[0m\u001b[1;33m(\u001b[0m\u001b[0mDct\u001b[0m\u001b[1;33m,\u001b[0m\u001b[0mfile\u001b[0m\u001b[1;33m)\u001b[0m\u001b[1;33m\u001b[0m\u001b[1;33m\u001b[0m\u001b[0m\n\u001b[0m\u001b[0;32m      5\u001b[0m \u001b[0mfile\u001b[0m\u001b[1;33m.\u001b[0m\u001b[0mclose\u001b[0m\u001b[1;33m(\u001b[0m\u001b[1;33m)\u001b[0m\u001b[1;33m\u001b[0m\u001b[1;33m\u001b[0m\u001b[0m\n",
      "\u001b[1;31mTypeError\u001b[0m: write() argument must be str, not bytes"
     ]
    }
   ],
   "source": [
    "import pickle\n",
    "Dct= {'a':1,'b':2}\n",
    "file = open(\"datapickle.pkl\",'wb', encoding=\"utf-8\")\n",
    "pickle.dump(Dct,file)\n",
    "file.close()"
   ]
  },
  {
   "cell_type": "code",
   "execution_count": 37,
   "id": "c664a807",
   "metadata": {},
   "outputs": [
    {
     "ename": "UnsupportedOperation",
     "evalue": "read",
     "output_type": "error",
     "traceback": [
      "\u001b[1;31m---------------------------------------------------------------------------\u001b[0m",
      "\u001b[1;31mUnsupportedOperation\u001b[0m                      Traceback (most recent call last)",
      "\u001b[1;32m<ipython-input-37-cd2a1ae39eab>\u001b[0m in \u001b[0;36m<module>\u001b[1;34m\u001b[0m\n\u001b[0;32m      1\u001b[0m \u001b[0mf\u001b[0m\u001b[1;33m=\u001b[0m\u001b[0mopen\u001b[0m\u001b[1;33m(\u001b[0m\u001b[1;34m'datafile.pkl'\u001b[0m\u001b[1;33m,\u001b[0m\u001b[1;34m'rb'\u001b[0m\u001b[1;33m)\u001b[0m\u001b[1;33m\u001b[0m\u001b[1;33m\u001b[0m\u001b[0m\n\u001b[1;32m----> 2\u001b[1;33m \u001b[0me\u001b[0m\u001b[1;33m=\u001b[0m\u001b[0mpickle\u001b[0m\u001b[1;33m.\u001b[0m\u001b[0mload\u001b[0m\u001b[1;33m(\u001b[0m\u001b[0mfl\u001b[0m\u001b[1;33m)\u001b[0m\u001b[1;33m\u001b[0m\u001b[1;33m\u001b[0m\u001b[0m\n\u001b[0m\u001b[0;32m      3\u001b[0m \u001b[0me\u001b[0m\u001b[1;33m\u001b[0m\u001b[1;33m\u001b[0m\u001b[0m\n",
      "\u001b[1;31mUnsupportedOperation\u001b[0m: read"
     ]
    }
   ],
   "source": [
    "f=open('datafile.pkl','rb')\n",
    "e=pickle.load(file)\n",
    "e"
   ]
  },
  {
   "cell_type": "markdown",
   "id": "c017aa4b",
   "metadata": {},
   "source": [
    "***JSON***"
   ]
  },
  {
   "cell_type": "code",
   "execution_count": 29,
   "id": "01ef44ff",
   "metadata": {},
   "outputs": [],
   "source": [
    "import json\n",
    "f = open('datajson.txt','w')\n",
    "json.dump(dct,f,indent=4)\n",
    "f.close()"
   ]
  },
  {
   "cell_type": "code",
   "execution_count": null,
   "id": "0365068b",
   "metadata": {},
   "outputs": [],
   "source": [
    "f= open"
   ]
  },
  {
   "cell_type": "code",
   "execution_count": 2,
   "id": "2ffefdbe",
   "metadata": {},
   "outputs": [
    {
     "name": "stdout",
     "output_type": "stream",
     "text": [
      "Time (sec),Heart Rate (BPM)\n",
      "0.0, 103\n",
      "5.0, 103\n",
      "10.0, 103\n",
      "15.0, 105\n",
      "20.0, 108\n"
     ]
    }
   ],
   "source": [
    "# Bài 4.5 f.readlines()\n",
    "f = open('heart_rate.txt')\n",
    "a=f.readlines()[:6]\n",
    "for line in a:\n",
    "    print(line.rstrip())\n",
    "    \n",
    "#b\n"
   ]
  },
  {
   "cell_type": "code",
   "execution_count": 1,
   "id": "ded1a07b",
   "metadata": {},
   "outputs": [
    {
     "ename": "IndentationError",
     "evalue": "expected an indented block (<ipython-input-1-69482ad825d8>, line 10)",
     "output_type": "error",
     "traceback": [
      "\u001b[1;36m  File \u001b[1;32m\"<ipython-input-1-69482ad825d8>\"\u001b[1;36m, line \u001b[1;32m10\u001b[0m\n\u001b[1;33m    n += 1\u001b[0m\n\u001b[1;37m    ^\u001b[0m\n\u001b[1;31mIndentationError\u001b[0m\u001b[1;31m:\u001b[0m expected an indented block\n"
     ]
    }
   ],
   "source": [
    "import math\n",
    "\n",
    "\n",
    "\n",
    "file = open('heart_rate.txt')\n",
    "file.readline()\n",
    "xdata = []\n",
    "ydata = []\n",
    "for line in file:\n",
    "n += 1\n",
    "line = line.rstrip()\n",
    "x,y = line.split(',')\n",
    "xdata.append(float(x))\n",
    "ydata.append(float(y))\n",
    "\n",
    "\n",
    "\n",
    "n = len(xdata)\n",
    "sumx = sum(xdata)\n",
    "sumy = sum(ydata)\n",
    "sumxx = sum([x**2 for x in xdata])\n",
    "sumyy = sum([y**2 for y in ydata])\n",
    "sumxy = sum([xdata[i]*ydata[i] for i in range(n)])\n",
    "\n",
    "\n",
    "\n",
    "\n",
    "# Mô tả thống kê\n",
    "print('Số quan sát:',n)\n",
    "ytb = sumy/n\n",
    "print('Trung bình:',ytb)\n",
    "ss = 1/(n-1)*(sumyy-n*ytb**2)\n",
    "s = math.sqrt(ss)\n",
    "print('Độ lệch tiêu chuẩn:',s)\n",
    "print('Giá trị nhỏ nhất:',min(ydata))\n",
    "print('Giá trị lớn nhất:',max(ydata))\n",
    "y = sorted(ydata)\n",
    "if n%2==0:\n",
    "mid = 1/2*(y[n//2-1]+y[n//2])\n",
    "else:\n",
    "mid = y[(n-1)//2]\n",
    "print('Trung vị:',mid)\n",
    "\n",
    "\n",
    "\n",
    "# Tìm đường hồi quy tuyến tính: y = b0 + b1x, b1 = Sxy/Sxx, b0 = ytb - xtb*b1\n",
    "Sxy = sumxy - 1/n*sumx*sumy\n",
    "Sxx = sumxx - 1/n*sumx**2\n",
    "xtb = sumx/n\n",
    "b1 = Sxy/Sxx\n",
    "b0 = ytb - xtb*b1\n",
    "print(f'Đường hồi quy tuyến tính là: y = {b0} + {b1}*x')\n",
    "\n",
    "\n",
    "\n",
    "# Lưu kết quả vào file 'results.txt'\n",
    "f = open('results.txt','w')\n",
    "f.write('So quan sat: '+ str(n) + '\\n')\n",
    "f.write('Trung binh: '+ str(ytb) + '\\n')\n",
    "f.write('Do lech tieu chuan: '+ str(s) + '\\n')\n",
    "f.write('Gia tri nho nhat: '+ str(min(ydata)) + '\\n')\n",
    "f.write('Gia tri lon nhat: '+ str(max(ydata)) + '\\n')\n",
    "f.write('Trung vi: '+ str(mid) + '\\n')\n",
    "f.write(f'Duong hoi quy tuyen tinh: y = {b0} + {b1}*x' + '\\n')\n",
    "f.close()"
   ]
  }
 ],
 "metadata": {
  "kernelspec": {
   "display_name": "Python 3",
   "language": "python",
   "name": "python3"
  },
  "language_info": {
   "codemirror_mode": {
    "name": "ipython",
    "version": 3
   },
   "file_extension": ".py",
   "mimetype": "text/x-python",
   "name": "python",
   "nbconvert_exporter": "python",
   "pygments_lexer": "ipython3",
   "version": "3.8.8"
  }
 },
 "nbformat": 4,
 "nbformat_minor": 5
}
