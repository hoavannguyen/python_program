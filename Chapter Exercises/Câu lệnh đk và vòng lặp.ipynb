{
 "cells": [
  {
   "cell_type": "code",
   "execution_count": 1,
   "id": "c9b86718",
   "metadata": {},
   "outputs": [
    {
     "name": "stdout",
     "output_type": "stream",
     "text": [
      "\n",
      "Hi, I can code in Python!\n",
      "My favorite animals are dog\n",
      "I live in Bac Ninh\n",
      "  _|_\n",
      " |   |\n",
      " |#  |____\n",
      " |   |    |\n",
      " |  #|  # |\n",
      "_|___|_#__|\n",
      "\n",
      "What year where you born? 2001\n",
      "In the year 2025 you'll be 24 years old!\n",
      "\n",
      "\n"
     ]
    }
   ],
   "source": [
    "str=\"\"\"\n",
    "Hi, I can code in Python!\n",
    "My favorite animals are dog\n",
    "I live in Bac Ninh\n",
    "  _|_\n",
    " |   |\n",
    " |#  |____\n",
    " |   |    |\n",
    " |  #|  # |\n",
    "_|___|_#__|\n",
    "\n",
    "What year where you born? 2001\n",
    "In the year 2025 you'll be 24 years old!\n",
    "\n",
    "\"\"\"\n",
    "print(str)"
   ]
  },
  {
   "cell_type": "code",
   "execution_count": 2,
   "id": "f9e1a0b4",
   "metadata": {},
   "outputs": [
    {
     "name": "stdout",
     "output_type": "stream",
     "text": [
      "Nhập a:1\n",
      "Nhập b:-1\n",
      "Nhập c:-1\n",
      "a,b,c không là cạnh của tam giác\n"
     ]
    }
   ],
   "source": [
    "a=float(input(\"Nhập a:\"))\n",
    "b=float(input(\"Nhập b:\"))\n",
    "c=float(input(\"Nhập c:\"))\n",
    "bool1= a>0 and b>0 and c>0\n",
    "bool2= a+b>c and b+c>a and a+c>b\n",
    "if bool1==True and bool2==True:\n",
    "    print(\"a,b,c là cạnh của tam giác\")\n",
    "else:\n",
    "    print(\"a,b,c không là cạnh của tam giác\")\n",
    "    "
   ]
  },
  {
   "cell_type": "code",
   "execution_count": 3,
   "id": "88308abe",
   "metadata": {},
   "outputs": [
    {
     "name": "stdout",
     "output_type": "stream",
     "text": [
      "Nhập tên 1:Hòa\n",
      "Nhập tên 2:Anh\n",
      "Nhập tên 3:Vân\n",
      "Tên được sắp xếp là  Anh Hòa Vân\n"
     ]
    }
   ],
   "source": [
    "a=input(\"Nhập tên 1:\")\n",
    "b=input(\"Nhập tên 2:\")\n",
    "c=input(\"Nhập tên 3:\")\n",
    "if a<b<c:\n",
    "    print(\"Tên được sắp xếp là \",a,b,c)\n",
    "if a<c<b:\n",
    "    print(\"Tên được sắp xếp là\",a,c,b)\n",
    "if b<a<c:\n",
    "    print(\"Tên được sắp xếp là \",b,a,c)\n",
    "if b<c<a:\n",
    "    print(\"Tên được sắp xếp là\",b,c,a)\n",
    "if c<a<b:\n",
    "    print(\"Tên được sắp xếp là \",c,a,b)\n",
    "if c<b<a:\n",
    "    print(\"Tên được sắp xếp là\",c,a,b)"
   ]
  },
  {
   "cell_type": "code",
   "execution_count": 4,
   "id": "45710092",
   "metadata": {},
   "outputs": [
    {
     "name": "stdout",
     "output_type": "stream",
     "text": [
      "Nhập tên nhân viên:1\n",
      "Nhập số giờ làm:123\n",
      "Nhập lương giờ:1\n",
      "Nhân viên  1 số giờ làm 123.0 Lương: 164.5\n"
     ]
    }
   ],
   "source": [
    "x=input(\"Nhập tên nhân viên:\")\n",
    "y=float(input(\"Nhập số giờ làm:\"))\n",
    "z=float(input(\"Nhập lương giờ:\"))\n",
    "if y-40>0:\n",
    "    sum=40*z+z*1.5*(y-40)\n",
    "else:\n",
    "    sum=y*z\n",
    "print(\"Nhân viên \",x,\"số giờ làm\",y,\"Lương:\",sum)"
   ]
  },
  {
   "cell_type": "code",
   "execution_count": 5,
   "id": "a8cd65c5",
   "metadata": {},
   "outputs": [
    {
     "name": "stdout",
     "output_type": "stream",
     "text": [
      "Nhập số thực:123\n",
      "a là số dương\n"
     ]
    }
   ],
   "source": [
    "a=float(input(\"Nhập số thực:\"))\n",
    "if a>0:\n",
    "    print(\"a là số dương\")\n",
    "elif a==0:\n",
    "    print(\"a bằng 0\")\n",
    "else:\n",
    "    print(\"a là số âm\")"
   ]
  },
  {
   "cell_type": "code",
   "execution_count": 6,
   "id": "a4f53b29",
   "metadata": {},
   "outputs": [
    {
     "name": "stdout",
     "output_type": "stream",
     "text": [
      "Nhập a:1\n",
      "Nhập b:2\n",
      "Nhập c:3\n",
      "Vô nghiệm\n"
     ]
    }
   ],
   "source": [
    "from math import sqrt\n",
    "a=float(input(\"Nhập a:\"))\n",
    "b=float(input(\"Nhập b:\"))\n",
    "c=float(input(\"Nhập c:\"))\n",
    "if a==0:\n",
    "    if b==0 and c==0:\n",
    "        print(\"Vô số nghiệm.\")\n",
    "    elif b==0 and c!=0:\n",
    "        print(\"Vô nghiệm.\")\n",
    "    else:\n",
    "        x=-c/b\n",
    "        print(\"Nghiệm x=\",x)\n",
    "else:\n",
    "    delta=b**2-4*a*c\n",
    "    if delta <0:\n",
    "        print(\"Vô nghiệm\")\n",
    "    elif delta==0:\n",
    "        x=-b/2*a\n",
    "        print(\"Nghiệm kép x1=x2=\",x)\n",
    "    else:\n",
    "        x1=(-b-sqrt(delta))/(2*a)\n",
    "        x2=(-b+sqrt(delta))/(2*a)\n",
    "        print(\"x1=\",x1,\"\\nx2=\",x2)"
   ]
  },
  {
   "cell_type": "code",
   "execution_count": 7,
   "id": "863ecad3",
   "metadata": {},
   "outputs": [
    {
     "name": "stdout",
     "output_type": "stream",
     "text": [
      "Nhập tên sinh viên:Hòa\n",
      "Nhập điểm trung bình sinh viên:11\n",
      "Nhập điểm lỗi\n"
     ]
    }
   ],
   "source": [
    "\n",
    "ten=input(\"Nhập tên sinh viên:\")\n",
    "d=float(input(\"Nhập điểm trung bình sinh viên:\"))\n",
    "if d>=8.5 and d<=10:\n",
    "     print(\"Điểm A\")\n",
    "elif d>=7 and d<8.5:\n",
    "    print(\"Điểm B\")\n",
    "elif d>=5.5 and d<7:\n",
    "    print(\"Điểm C\")\n",
    "elif d>=4 and d<5.5:\n",
    "    print(\"Điểm D\")\n",
    "elif d>=0 and d<4:\n",
    "    print(\"Điểm F\")\n",
    "else:\n",
    "    print(\"Nhập điểm lỗi\")"
   ]
  },
  {
   "cell_type": "code",
   "execution_count": 8,
   "id": "9ba986e8",
   "metadata": {},
   "outputs": [
    {
     "name": "stdout",
     "output_type": "stream",
     "text": [
      "Nhập cân nặng của bạn(kg):2\n",
      "Nhập chiều cao của bạn(m):123\n",
      "BMI:0.00. Phân loại:Gầy\n"
     ]
    }
   ],
   "source": [
    "a=float(input(\"Nhập cân nặng của bạn(kg):\"))\n",
    "b=float(input(\"Nhập chiều cao của bạn(m):\"))\n",
    "bm=a/b**2\n",
    "if bm<20:\n",
    "    print(\"BMI:%.2f. Phân loại:Gầy\"%bm)\n",
    "elif bm>=20 and bm <25:\n",
    "    print(\"BMI:%.2f. Phân loại:Bình thường\"%bm)\n",
    "elif bm>=25 and bm <30:\n",
    "    print(\"BMI:%.2f. Phân loại:Thừa cân\"%bm)\n",
    "else:\n",
    "    print(\"BMI:%.2f. Phân loại:Béo phì\"%bm)\n"
   ]
  },
  {
   "cell_type": "markdown",
   "id": "b9c20301",
   "metadata": {},
   "source": [
    "# Vòng lặp for"
   ]
  },
  {
   "cell_type": "code",
   "execution_count": 9,
   "id": "dd6e49ce",
   "metadata": {},
   "outputs": [
    {
     "name": "stdout",
     "output_type": "stream",
     "text": [
      "Chào mừng Hòa\n",
      "Chào mừng Chí\n",
      "Chào mừng Vân Anh\n",
      "Chào mừng Híu\n"
     ]
    }
   ],
   "source": [
    "person=[\"Hòa\",\"Chí\",\"Vân Anh\",\"Híu\"]\n",
    "for i in person:\n",
    "    print(\"Chào mừng\",i)"
   ]
  },
  {
   "cell_type": "code",
   "execution_count": 10,
   "id": "2b79e732",
   "metadata": {},
   "outputs": [
    {
     "name": "stdout",
     "output_type": "stream",
     "text": [
      "Nhập số mới:23\n",
      "Nhập số mới:1\n",
      "Nhập số mới:23\n",
      "Tổng: 47.0\n",
      "Tích: 529.0\n"
     ]
    }
   ],
   "source": [
    "n=3\n",
    "summ=0\n",
    "tich=1\n",
    "for i in range(n):\n",
    "    x=float(input(\"Nhập số mới:\"))\n",
    "    summ+=x\n",
    "    tich*=x\n",
    "print(\"Tổng: {}\\nTích: {}\".format(summ,tich))"
   ]
  },
  {
   "cell_type": "code",
   "execution_count": 11,
   "id": "cd144d9b",
   "metadata": {},
   "outputs": [
    {
     "name": "stdout",
     "output_type": "stream",
     "text": [
      "Nhập x dương:123\n",
      "Xấp xỉ cb2 bằng pp Newton 11.090536506409418\n"
     ]
    }
   ],
   "source": [
    "#Tính cb2 bằng pp Newton\n",
    "x=float(input(\"Nhập x dương:\"))\n",
    "if x>0:\n",
    "    y=1\n",
    "    for i in range(20):\n",
    "        y=(y+x/y)/2\n",
    "    print(\"Xấp xỉ cb2 bằng pp Newton\",y)\n",
    "else:\n",
    "    print('Nhập x lỗi')"
   ]
  },
  {
   "cell_type": "code",
   "execution_count": 12,
   "id": "64a6651b",
   "metadata": {},
   "outputs": [
    {
     "name": "stdout",
     "output_type": "stream",
     "text": [
      "Nhập x dương:24\n",
      "Xấp xỉ cb2 bằng pp Newton là: 4.898979485566356 \n",
      " 6 Bước lặp\n"
     ]
    }
   ],
   "source": [
    "#tính cb2 bằng while với đk tolerance error\n",
    "x=float(input(\"Nhập x dương:\"))\n",
    "if x<0:\n",
    "    print(\"Số âm không tính đc cb2\")\n",
    "else:\n",
    "    y1=1\n",
    "    y2=(y1+x/y1)/2\n",
    "    count=0\n",
    "    while abs(y1-y2)>1e-5:\n",
    "        count+=1\n",
    "        y1=y2\n",
    "        y2=(y1+x/y1)/2\n",
    "    print(\"Xấp xỉ cb2 bằng pp Newton là:\",y2,\"\\n\",count,\"Bước lặp\")"
   ]
  },
  {
   "cell_type": "code",
   "execution_count": 13,
   "id": "a9590443",
   "metadata": {},
   "outputs": [
    {
     "name": "stdout",
     "output_type": "stream",
     "text": [
      "1\n",
      "2\n",
      "3\n",
      "4\n",
      "5\n"
     ]
    }
   ],
   "source": [
    "count=0\n",
    "while True:\n",
    "    count+=1\n",
    "    print(count)\n",
    "    if count==5:\n",
    "        break"
   ]
  },
  {
   "cell_type": "code",
   "execution_count": 14,
   "id": "6e064867",
   "metadata": {},
   "outputs": [
    {
     "name": "stdout",
     "output_type": "stream",
     "text": [
      "Kết thúc vòng lặp? (c/k):14\n",
      "14\n",
      "Kết thúc vòng lặp? (c/k):c\n"
     ]
    }
   ],
   "source": [
    "while True:\n",
    "    line=input(\"Kết thúc vòng lặp? (c/k):\")\n",
    "    if line[0]==\"#\":\n",
    "        continue\n",
    "    elif line==\"c\":\n",
    "        break\n",
    "    else:\n",
    "        print(line)\n",
    "    "
   ]
  },
  {
   "cell_type": "code",
   "execution_count": 15,
   "id": "bf484a5c",
   "metadata": {},
   "outputs": [
    {
     "name": "stdout",
     "output_type": "stream",
     "text": [
      "Nhập vào thông điệp(Nhấn Enter để thoát):rư\n",
      "Số lần lặp thông điệp:2\n",
      "rư\n",
      "rư\n",
      "Nhập vào thông điệp(Nhấn Enter để thoát):\n",
      "BYE.....\n"
     ]
    }
   ],
   "source": [
    "ms=input(\"Nhập vào thông điệp(Nhấn Enter để thoát):\")\n",
    "while ms!=\"\":\n",
    "    n=int(input(\"Số lần lặp thông điệp:\"))\n",
    "    for i in range(n):\n",
    "        print(ms)\n",
    "    ms=input(\"Nhập vào thông điệp(Nhấn Enter để thoát):\")\n",
    "print(\"BYE.....\")"
   ]
  },
  {
   "cell_type": "code",
   "execution_count": 16,
   "id": "8072166b",
   "metadata": {},
   "outputs": [
    {
     "name": "stdout",
     "output_type": "stream",
     "text": [
      "Nhập số:31\n",
      "Nhập số:3\n",
      "Nhập số:Hoàn thành\n",
      "Tổng 34.0 \n",
      "2 phần tử\n",
      "Trung bình17.0\n"
     ]
    }
   ],
   "source": [
    "s=0\n",
    "count=0\n",
    "while True:\n",
    "    x=input(\"Nhập số:\")\n",
    "    if x==\"Hoàn thành\":\n",
    "        break\n",
    "    else:\n",
    "        x=float(x)\n",
    "    count+=1\n",
    "    s+=x\n",
    "print(\"Tổng {} \\n{} phần tử\\nTrung bình{}\".format(s,count,s/count))\n",
    "\n",
    "    "
   ]
  },
  {
   "cell_type": "code",
   "execution_count": 17,
   "id": "c367d4df",
   "metadata": {},
   "outputs": [
    {
     "name": "stdout",
     "output_type": "stream",
     "text": [
      "Nhập số:Hoàn thành\n",
      "[]\n"
     ]
    },
    {
     "ename": "ValueError",
     "evalue": "min() arg is an empty sequence",
     "output_type": "error",
     "traceback": [
      "\u001b[1;31m---------------------------------------------------------------------------\u001b[0m",
      "\u001b[1;31mValueError\u001b[0m                                Traceback (most recent call last)",
      "\u001b[1;32m<ipython-input-17-a8b85fb054c3>\u001b[0m in \u001b[0;36m<module>\u001b[1;34m\u001b[0m\n\u001b[0;32m     12\u001b[0m         \u001b[0mprint\u001b[0m\u001b[1;33m(\u001b[0m\u001b[1;34m\"dữ liệu khác\"\u001b[0m\u001b[1;33m)\u001b[0m\u001b[1;33m\u001b[0m\u001b[1;33m\u001b[0m\u001b[0m\n\u001b[0;32m     13\u001b[0m \u001b[0mprint\u001b[0m\u001b[1;33m(\u001b[0m\u001b[0mlst\u001b[0m\u001b[1;33m)\u001b[0m\u001b[1;33m\u001b[0m\u001b[1;33m\u001b[0m\u001b[0m\n\u001b[1;32m---> 14\u001b[1;33m \u001b[0mprint\u001b[0m\u001b[1;33m(\u001b[0m\u001b[1;34m\"Số phần tử {} \\nMin={}\\nMax={}\"\u001b[0m\u001b[1;33m.\u001b[0m\u001b[0mformat\u001b[0m\u001b[1;33m(\u001b[0m\u001b[0mcount\u001b[0m\u001b[1;33m,\u001b[0m\u001b[0mmin\u001b[0m\u001b[1;33m(\u001b[0m\u001b[0mlst\u001b[0m\u001b[1;33m)\u001b[0m\u001b[1;33m,\u001b[0m\u001b[0mmax\u001b[0m\u001b[1;33m(\u001b[0m\u001b[0mlst\u001b[0m\u001b[1;33m)\u001b[0m\u001b[1;33m)\u001b[0m\u001b[1;33m)\u001b[0m\u001b[1;33m\u001b[0m\u001b[1;33m\u001b[0m\u001b[0m\n\u001b[0m",
      "\u001b[1;31mValueError\u001b[0m: min() arg is an empty sequence"
     ]
    }
   ],
   "source": [
    "lst=[]\n",
    "count=0\n",
    "while True:\n",
    "    try:\n",
    "        x=input(\"Nhập số:\")\n",
    "        if x==\"Hoàn thành\":\n",
    "            break\n",
    "        x=float(x)\n",
    "        lst.append(x)\n",
    "        count += 1\n",
    "    except:\n",
    "        print(\"dữ liệu khác\")\n",
    "print(lst)\n",
    "print(\"Số phần tử {} \\nMin={}\\nMax={}\".format(count,min(lst),max(lst)))"
   ]
  },
  {
   "cell_type": "code",
   "execution_count": 39,
   "id": "8fcdfc66",
   "metadata": {},
   "outputs": [
    {
     "ename": "TypeError",
     "evalue": "'str' object is not callable",
     "output_type": "error",
     "traceback": [
      "\u001b[1;31m---------------------------------------------------------------------------\u001b[0m",
      "\u001b[1;31mTypeError\u001b[0m                                 Traceback (most recent call last)",
      "\u001b[1;32m<ipython-input-39-005059ed9c16>\u001b[0m in \u001b[0;36m<module>\u001b[1;34m\u001b[0m\n\u001b[1;32m----> 1\u001b[1;33m \u001b[0ma\u001b[0m\u001b[1;33m=\u001b[0m\u001b[0mstr\u001b[0m\u001b[1;33m(\u001b[0m\u001b[1;36m123213\u001b[0m\u001b[1;33m)\u001b[0m\u001b[1;33m\u001b[0m\u001b[1;33m\u001b[0m\u001b[0m\n\u001b[0m",
      "\u001b[1;31mTypeError\u001b[0m: 'str' object is not callable"
     ]
    }
   ],
   "source": [
    "a=str(123213)"
   ]
  },
  {
   "cell_type": "code",
   "execution_count": 31,
   "id": "5fe4b547",
   "metadata": {},
   "outputs": [
    {
     "name": "stdout",
     "output_type": "stream",
     "text": [
      "Nhập số tự nhiên n:12345678\n",
      "Tổng các chữ số: 36\n",
      "Giá trị lớn nhất 8\n",
      "Giá trị nhỏ nhất 1\n"
     ]
    }
   ],
   "source": [
    "n=input(\"Nhập số tự nhiên n:\")\n",
    "if int(n)<1e+100:\n",
    "    s=0\n",
    "    max=min=int(n[0])\n",
    "    for i in n:\n",
    "        i=int(i)\n",
    "        s+=i\n",
    "        if i>max:\n",
    "            max=i\n",
    "        if i<min:\n",
    "            min=i\n",
    "    print(\"Tổng các chữ số:\",s)\n",
    "    print(\"Giá trị lớn nhất:\",max)\n",
    "    print(\"Giá trị nhỏ nhất:\",min)\n",
    "else:\n",
    "    print(\"n không hợp lệ\")\n",
    "    \n",
    "    "
   ]
  },
  {
   "cell_type": "code",
   "execution_count": 38,
   "id": "81949dba",
   "metadata": {},
   "outputs": [
    {
     "name": "stdout",
     "output_type": "stream",
     "text": [
      "Pi_1= 3.1666666666666665\n",
      "Pi_2=3.1333333333333333\n",
      "Pi_3=3.145238095238095\n",
      "Pi_4=3.1396825396825396\n",
      "Pi_5=3.1427128427128426\n",
      "Pi_6=3.1408813408813407\n",
      "Pi_7=3.142071817071817\n",
      "Pi_8=3.1412548236077646\n",
      "Pi_9=3.141839618929402\n",
      "Pi_10=3.1414067184965018\n",
      "Pi_11=3.1417360992606653\n",
      "Pi_12=3.141479689004255\n",
      "Pi_13=3.1416831892077552\n",
      "Pi_14=3.1415189855952756\n",
      "Pi_15=3.141653394197426\n"
     ]
    }
   ],
   "source": [
    "pi=3+4/(2*3*4)\n",
    "print(\"Pi_1=\",pi)\n",
    "x=4\n",
    "for i in range(1,15):\n",
    "    if i%2!=0:\n",
    "        pi-=4/(x*(x+1)*(x+2))\n",
    "        print(\"Pi_{}={}\".format(i+1,pi))\n",
    "    if i%2==0:\n",
    "        pi+=4/(x*(x+1)*(x+2))\n",
    "        print(\"Pi_{}={}\".format(i+1,pi))\n",
    "    x+=2"
   ]
  }
 ],
 "metadata": {
  "kernelspec": {
   "display_name": "Python 3",
   "language": "python",
   "name": "python3"
  },
  "language_info": {
   "codemirror_mode": {
    "name": "ipython",
    "version": 3
   },
   "file_extension": ".py",
   "mimetype": "text/x-python",
   "name": "python",
   "nbconvert_exporter": "python",
   "pygments_lexer": "ipython3",
   "version": "3.8.8"
  }
 },
 "nbformat": 4,
 "nbformat_minor": 5
}
